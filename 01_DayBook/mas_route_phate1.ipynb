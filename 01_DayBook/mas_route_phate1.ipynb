{
 "cells": [
  {
   "cell_type": "code",
   "execution_count": 28,
   "id": "67f1a8ff",
   "metadata": {},
   "outputs": [
    {
     "name": "stdout",
     "output_type": "stream",
     "text": [
      "====================================================================================================\n",
      "ESTADÍSTICAS DE DATOS: VALIDACIÓN UNIVERSO VS OHLCV DESCARGADO\n",
      "====================================================================================================\n",
      "\n",
      "📊 1. cs_xnas_xnys_hybrid_2025-10-24.parquet\n",
      "----------------------------------------------------------------------------------------------------\n",
      "Total tickers:        8,686\n",
      "Activos:              3,092\n",
      "Inactivos:            5,594\n",
      "Columnas:                14\n",
      "\n",
      "Columns: \n",
      "\n",
      "ticker\n",
      "name\n",
      "market\n",
      "locale\n",
      "primary_exchange\n",
      "type\n",
      "active\n",
      "currency_name\n",
      "cik\n",
      "composite_figi\n",
      "share_class_figi\n",
      "last_updated_utc\n",
      "snapshot_date\n",
      "delisted_utc\n"
     ]
    }
   ],
   "source": [
    "import polars as pl\n",
    "from pathlib import Path\n",
    "import os\n",
    "\n",
    "os.chdir(r\"D:\\04_TRADING_SMALLCAPS\")\n",
    "\n",
    "print(\"=\"*100)\n",
    "print(\"ESTADÍSTICAS DE DATOS: VALIDACIÓN UNIVERSO VS OHLCV DESCARGADO\")\n",
    "print(\"=\"*100)\n",
    "\n",
    "# 1. Universo Híbrido Parquet\n",
    "print(\"\\n📊 1. cs_xnas_xnys_hybrid_2025-10-24.parquet\")\n",
    "print(\"-\"*100)\n",
    "df_parquet = pl.read_parquet(\"processed/universe/cs_xnas_xnys_hybrid_2025-10-24.parquet\")\n",
    "print(f\"Total tickers:     {len(df_parquet):>8,}\")\n",
    "print(f\"Activos:           {len(df_parquet.filter(pl.col('active') == True)):>8,}\")\n",
    "print(f\"Inactivos:         {len(df_parquet.filter(pl.col('active') == False)):>8,}\")\n",
    "print(f\"Columnas:          {len(df_parquet.columns):>8,}\")\n",
    "print(f\"\\nColumns: \\n\")\n",
    "print(\"\\n\".join(df_parquet.columns))\n",
    "\n"
   ]
  },
  {
   "cell_type": "code",
   "execution_count": 27,
   "id": "625e85f3",
   "metadata": {},
   "outputs": [
    {
     "name": "stdout",
     "output_type": "stream",
     "text": [
      "\n",
      "📊 2. cs_xnas_xnys_hybrid_2025-10-24.csv\n",
      "----------------------------------------------------------------------------------------------------\n",
      "Total tickers:        8,686\n",
      "Activos:              3,092\n",
      "Inactivos:            5,594\n",
      "Columnas:                 6\n",
      "Columns: ['ticker', 'name', 'primary_exchange', 'type', 'active', 'cik']\n"
     ]
    }
   ],
   "source": [
    "# 2. Universo Híbrido CSV\n",
    "print(\"\\n📊 2. cs_xnas_xnys_hybrid_2025-10-24.csv\")\n",
    "print(\"-\"*100)\n",
    "df_csv = pl.read_csv(\"processed/universe/cs_xnas_xnys_hybrid_2025-10-24.csv\")\n",
    "print(f\"Total tickers:     {len(df_csv):>8,}\")\n",
    "print(f\"Activos:           {len(df_csv.filter(pl.col('active') == True)):>8,}\")\n",
    "print(f\"Inactivos:         {len(df_csv.filter(pl.col('active') == False)):>8,}\")\n",
    "print(f\"Columnas:          {len(df_csv.columns):>8,}\")\n",
    "print(f\"Columns: {df_csv.columns}\")"
   ]
  },
  {
   "cell_type": "code",
   "execution_count": 39,
   "id": "cc939bca",
   "metadata": {},
   "outputs": [
    {
     "name": "stdout",
     "output_type": "stream",
     "text": [
      "\n",
      "📊 3. raw/polygon/ohlcv_daily/\n",
      "----------------------------------------------------------------------------------------------------\n",
      "Total tickers:        8,618\n",
      "Cobertura:           99.22%  (vs 8,686 esperados)\n",
      "Faltantes:               68\n",
      "\n",
      "Primeros 10: ['AABA', 'AAC', 'AACB', 'AACI', 'AACQ', 'AACT', 'AADI', 'AAGR', 'AAI', 'AAIC']\n",
      "Últimos 10:  ['ZVO', 'ZVRA', 'ZVSA', 'ZWRK', 'ZY', 'ZYBT', 'ZYME', 'ZYNE', 'ZYXI', 'ZZ']\n",
      "\n",
      "🔍 MUESTRA DE DATOS: ACOG\n",
      "----------------------------------------------------------------------------------------------------\n",
      "Archivo: ACOG\\year=2024\\daily.parquet\n",
      "Filas: 34\n",
      "Columnas: ['ticker', 'date', 't', 'o', 'h', 'l', 'c', 'v', 'n', 'vw']\n",
      "\n",
      "Primeras 5 filas:\n",
      "shape: (5, 10)\n",
      "┌────────┬────────────┬───────────────┬──────┬───┬────────┬──────────┬──────┬────────┐\n",
      "│ ticker ┆ date       ┆ t             ┆ o    ┆ … ┆ c      ┆ v        ┆ n    ┆ vw     │\n",
      "│ ---    ┆ ---        ┆ ---           ┆ ---  ┆   ┆ ---    ┆ ---      ┆ ---  ┆ ---    │\n",
      "│ str    ┆ str        ┆ i64           ┆ f64  ┆   ┆ f64    ┆ f64      ┆ i64  ┆ f64    │\n",
      "╞════════╪════════════╪═══════════════╪══════╪═══╪════════╪══════════╪══════╪════════╡\n",
      "│ ACOG   ┆ 2024-11-12 ┆ 1731387600000 ┆ 7.0  ┆ … ┆ 5.7    ┆ 406371.0 ┆ 2247 ┆ 5.9868 │\n",
      "│ ACOG   ┆ 2024-11-13 ┆ 1731474000000 ┆ 5.75 ┆ … ┆ 5.74   ┆ 85609.0  ┆ 498  ┆ 5.7235 │\n",
      "│ ACOG   ┆ 2024-11-14 ┆ 1731560400000 ┆ 5.75 ┆ … ┆ 5.675  ┆ 17012.0  ┆ 137  ┆ 5.7098 │\n",
      "│ ACOG   ┆ 2024-11-15 ┆ 1731646800000 ┆ 5.6  ┆ … ┆ 5.3697 ┆ 96246.0  ┆ 331  ┆ 5.6085 │\n",
      "│ ACOG   ┆ 2024-11-18 ┆ 1731906000000 ┆ 5.4  ┆ … ┆ 5.7    ┆ 92258.0  ┆ 320  ┆ 5.5791 │\n",
      "└────────┴────────────┴───────────────┴──────┴───┴────────┴──────────┴──────┴────────┘\n"
     ]
    }
   ],
   "source": [
    "# 3. OHLCV Daily descargado\n",
    "print(\"\\n📊 3. raw/polygon/ohlcv_daily/\")\n",
    "print(\"-\"*100)\n",
    "daily_path = Path(\"raw/polygon/ohlcv_daily\")\n",
    "daily_tickers = sorted([d.name for d in daily_path.iterdir() if d.is_dir() and not d.name.startswith(\"_\")])\n",
    "count_daily = len(daily_tickers)\n",
    "print(f\"Total tickers:     {count_daily:>8,}\")\n",
    "print(f\"Cobertura:         {count_daily/8686*100:>7.2f}%  (vs 8,686 esperados)\")\n",
    "print(f\"Faltantes:         {8686 - count_daily:>8,}\")\n",
    "\n",
    "# Mostrar primeros 10 y últimos 10\n",
    "print(f\"\\nPrimeros 10: {daily_tickers[:10]}\")\n",
    "print(f\"Últimos 10:  {daily_tickers[-10:]}\")\n",
    "\n",
    "# MUESTRA DE DATOS: Leer un ticker aleatorio\n",
    "if len(daily_tickers) > 0:\n",
    "    sample_ticker = daily_tickers[100]  # Tomar el ticker #100\n",
    "    print(f\"\\n🔍 MUESTRA DE DATOS: {sample_ticker}\")\n",
    "    print(\"-\"*100)\n",
    "    # Buscar archivos parquet en el ticker\n",
    "    ticker_dir = daily_path / sample_ticker\n",
    "    parquet_files = list(ticker_dir.rglob(\"*.parquet\"))\n",
    "    if parquet_files:\n",
    "        df_sample = pl.read_parquet(parquet_files[0])\n",
    "        print(f\"Archivo: {parquet_files[0].relative_to(daily_path)}\")\n",
    "        print(f\"Filas: {len(df_sample):,}\")\n",
    "        print(f\"Columnas: {df_sample.columns}\")\n",
    "        print(f\"\\nPrimeras 5 filas:\")\n",
    "        print(df_sample.head(5))"
   ]
  },
  {
   "cell_type": "code",
   "execution_count": 38,
   "id": "a50d283f",
   "metadata": {},
   "outputs": [
    {
     "name": "stdout",
     "output_type": "stream",
     "text": [
      "\n",
      "📊 4. raw/polygon/ohlcv_intraday_1m/\n",
      "----------------------------------------------------------------------------------------------------\n",
      "Total tickers:        8,620\n",
      "Cobertura:           99.24%  (vs 8,686 esperados)\n",
      "Faltantes:               66\n",
      "\n",
      "Primeros 10: ['AABA', 'AAC', 'AACB', 'AACI', 'AACQ', 'AACT', 'AADI', 'AAGR', 'AAI', 'AAIC']\n",
      "Últimos 10:  ['ZVO', 'ZVRA', 'ZVSA', 'ZWRK', 'ZY', 'ZYBT', 'ZYME', 'ZYNE', 'ZYXI', 'ZZ']\n",
      "\n",
      "🔍 MUESTRA DE DATOS: ACOG\n",
      "----------------------------------------------------------------------------------------------------\n",
      "Archivo: ACOG\\year=2024\\month=11\\minute.parquet\n",
      "Filas: 944\n",
      "Columnas: ['ticker', 'date', 'minute', 't', 'o', 'h', 'l', 'c', 'v', 'n', 'vw']\n",
      "\n",
      "Primeras 5 filas:\n",
      "shape: (5, 11)\n",
      "┌────────┬────────────┬──────────────────┬───────────────┬───┬──────┬─────────┬─────┬────────┐\n",
      "│ ticker ┆ date       ┆ minute           ┆ t             ┆ … ┆ c    ┆ v       ┆ n   ┆ vw     │\n",
      "│ ---    ┆ ---        ┆ ---              ┆ ---           ┆   ┆ ---  ┆ ---     ┆ --- ┆ ---    │\n",
      "│ str    ┆ str        ┆ str              ┆ i64           ┆   ┆ f64  ┆ f64     ┆ i64 ┆ f64    │\n",
      "╞════════╪════════════╪══════════════════╪═══════════════╪═══╪══════╪═════════╪═════╪════════╡\n",
      "│ ACOG   ┆ 2024-11-12 ┆ 2024-11-12 15:45 ┆ 1731426300000 ┆ … ┆ 6.04 ┆ 21399.0 ┆ 67  ┆ 6.7065 │\n",
      "│ ACOG   ┆ 2024-11-12 ┆ 2024-11-12 15:46 ┆ 1731426360000 ┆ … ┆ 6.04 ┆ 274.0   ┆ 10  ┆ 6.0488 │\n",
      "│ ACOG   ┆ 2024-11-12 ┆ 2024-11-12 15:47 ┆ 1731426420000 ┆ … ┆ 6.05 ┆ 5007.0  ┆ 21  ┆ 6.2035 │\n",
      "│ ACOG   ┆ 2024-11-12 ┆ 2024-11-12 15:48 ┆ 1731426480000 ┆ … ┆ 6.13 ┆ 11676.0 ┆ 47  ┆ 6.1353 │\n",
      "│ ACOG   ┆ 2024-11-12 ┆ 2024-11-12 15:49 ┆ 1731426540000 ┆ … ┆ 6.1  ┆ 530.0   ┆ 22  ┆ 6.0952 │\n",
      "└────────┴────────────┴──────────────────┴───────────────┴───┴──────┴─────────┴─────┴────────┘\n"
     ]
    }
   ],
   "source": [
    "# 4. OHLCV Intraday descargado\n",
    "print(\"\\n📊 4. raw/polygon/ohlcv_intraday_1m/\")\n",
    "print(\"-\"*100)\n",
    "intraday_path = Path(\"raw/polygon/ohlcv_intraday_1m\")\n",
    "intraday_tickers = sorted([d.name for d in intraday_path.iterdir() if d.is_dir() and not d.name.startswith(\"_\")])\n",
    "count_intraday = len(intraday_tickers)\n",
    "print(f\"Total tickers:     {count_intraday:>8,}\")\n",
    "print(f\"Cobertura:         {count_intraday/8686*100:>7.2f}%  (vs 8,686 esperados)\")\n",
    "print(f\"Faltantes:         {8686 - count_intraday:>8,}\")\n",
    "\n",
    "# Mostrar primeros 10 y últimos 10\n",
    "print(f\"\\nPrimeros 10: {intraday_tickers[:10]}\")\n",
    "print(f\"Últimos 10:  {intraday_tickers[-10:]}\")\n",
    "\n",
    "# MUESTRA DE DATOS: Leer un ticker aleatorio\n",
    "if len(intraday_tickers) > 0:\n",
    "    sample_ticker = intraday_tickers[100]  # Tomar el ticker #100\n",
    "    print(f\"\\n🔍 MUESTRA DE DATOS: {sample_ticker}\")\n",
    "    print(\"-\"*100)\n",
    "    # Buscar archivos parquet en el ticker\n",
    "    ticker_dir = intraday_path / sample_ticker\n",
    "    parquet_files = list(ticker_dir.rglob(\"*.parquet\"))\n",
    "    if parquet_files:\n",
    "        df_sample = pl.read_parquet(parquet_files[0])\n",
    "        print(f\"Archivo: {parquet_files[0].relative_to(intraday_path)}\")\n",
    "        print(f\"Filas: {len(df_sample):,}\")\n",
    "        print(f\"Columnas: {df_sample.columns}\")\n",
    "        print(f\"\\nPrimeras 5 filas:\")\n",
    "        print(df_sample.head(5))"
   ]
  },
  {
   "cell_type": "code",
   "execution_count": 34,
   "id": "8930ed02",
   "metadata": {},
   "outputs": [
    {
     "name": "stdout",
     "output_type": "stream",
     "text": [
      "\n",
      "📊 5. DISCREPANCIAS: Tickers en CSV pero NO en Daily\n",
      "----------------------------------------------------------------------------------------------------\n",
      "Faltantes en Daily:      84\n",
      "Primeros 20: ['ACCP', 'ACLL', 'ADSW', 'AFGL', 'AIRCw', 'AIRTV', 'AIVw', 'ALPX', 'ALVU', 'ALZH']\n",
      "\n",
      "📊 6. DISCREPANCIAS: Tickers en CSV pero NO en Intraday\n",
      "----------------------------------------------------------------------------------------------------\n",
      "Faltantes en Intraday:     82\n",
      "Primeros 20: ['ACCP', 'ACLL', 'ADSw', 'AEBIV', 'AFGL', 'AIRCw', 'AIRTV', 'AIVw', 'ALPX', 'ALVU']\n"
     ]
    }
   ],
   "source": [
    "# 5. Comparación: ¿Qué tickers están en CSV pero NO en Daily?\n",
    "print(\"\\n📊 5. DISCREPANCIAS: Tickers en CSV pero NO en Daily\")\n",
    "print(\"-\"*100)\n",
    "tickers_csv = set(df_csv[\"ticker\"].to_list())\n",
    "tickers_daily = set(daily_tickers)\n",
    "missing_daily = sorted(tickers_csv - tickers_daily)\n",
    "print(f\"Faltantes en Daily:  {len(missing_daily):>6,}\")\n",
    "if len(missing_daily) > 0:\n",
    "    print(f\"Primeros 20: {missing_daily[:10]}\")\n",
    "\n",
    "# 6. Comparación: ¿Qué tickers están en CSV pero NO en Intraday?\n",
    "print(\"\\n📊 6. DISCREPANCIAS: Tickers en CSV pero NO en Intraday\")\n",
    "print(\"-\"*100)\n",
    "tickers_intraday = set(intraday_tickers)\n",
    "missing_intraday = sorted(tickers_csv - tickers_intraday)\n",
    "print(f\"Faltantes en Intraday: {len(missing_intraday):>6,}\")\n",
    "if len(missing_intraday) > 0:\n",
    "    print(f\"Primeros 20: {missing_intraday[:10]}\")"
   ]
  }
 ],
 "metadata": {
  "kernelspec": {
   "display_name": ".venv-smallcap",
   "language": "python",
   "name": "python3"
  },
  "language_info": {
   "codemirror_mode": {
    "name": "ipython",
    "version": 3
   },
   "file_extension": ".py",
   "mimetype": "text/x-python",
   "name": "python",
   "nbconvert_exporter": "python",
   "pygments_lexer": "ipython3",
   "version": "3.13.7"
  }
 },
 "nbformat": 4,
 "nbformat_minor": 5
}
