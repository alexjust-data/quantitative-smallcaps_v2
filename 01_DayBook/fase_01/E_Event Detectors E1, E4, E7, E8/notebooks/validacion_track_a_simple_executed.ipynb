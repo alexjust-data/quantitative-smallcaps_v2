{
 "cells": [
  {
   "cell_type": "markdown",
   "metadata": {},
   "source": [
    "# Validación Track A: Daily OHLCV Pipeline (Simple)\n",
    "\n",
    "**Objetivo**: Validación rápida y directa del pipeline daily OHLCV\n",
    "\n",
    "**Fecha**: 2025-10-28\n",
    "\n",
    "**Tests clave**:\n",
    "1. Cobertura de tickers\n",
    "2. Schema correcto\n",
    "3. Integridad OHLC\n",
    "4. Contenido de ejemplo"
   ]
  },
  {
   "cell_type": "code",
   "execution_count": 1,
   "metadata": {
    "execution": {
     "iopub.execute_input": "2025-10-28T19:54:44.243523Z",
     "iopub.status.busy": "2025-10-28T19:54:44.243352Z",
     "iopub.status.idle": "2025-10-28T19:54:44.400564Z",
     "shell.execute_reply": "2025-10-28T19:54:44.400041Z"
    }
   },
   "outputs": [
    {
     "name": "stdout",
     "output_type": "stream",
     "text": [
      "✅ Imports completados\n"
     ]
    }
   ],
   "source": [
    "import polars as pl\n",
    "from pathlib import Path\n",
    "import random\n",
    "\n",
    "pl.Config.set_tbl_rows(20)\n",
    "random.seed(42)\n",
    "\n",
    "print('✅ Imports completados')"
   ]
  },
  {
   "cell_type": "markdown",
   "metadata": {},
   "source": [
    "## 1. Cobertura Total"
   ]
  },
  {
   "cell_type": "code",
   "execution_count": 2,
   "metadata": {
    "execution": {
     "iopub.execute_input": "2025-10-28T19:54:44.423407Z",
     "iopub.status.busy": "2025-10-28T19:54:44.423098Z",
     "iopub.status.idle": "2025-10-28T19:56:28.208056Z",
     "shell.execute_reply": "2025-10-28T19:56:28.207635Z"
    }
   },
   "outputs": [
    {
     "name": "stdout",
     "output_type": "stream",
     "text": [
      "=== COBERTURA ===\n",
      "Tickers procesados: 8,617\n",
      "Tickers esperados: 8,620\n",
      "Cobertura: 99.97%\n",
      "\n"
     ]
    },
    {
     "name": "stdout",
     "output_type": "stream",
     "text": [
      "✅ Tickers con datos: 8,617 (100.00%)\n"
     ]
    }
   ],
   "source": [
    "daily_ohlcv_root = Path('D:/04_TRADING_SMALLCAPS/processed/daily_ohlcv')\n",
    "ticker_dirs = [d for d in daily_ohlcv_root.iterdir() if d.is_dir()]\n",
    "\n",
    "print(f\"=== COBERTURA ===\")\n",
    "print(f\"Tickers procesados: {len(ticker_dirs):,}\")\n",
    "print(f\"Tickers esperados: 8,620\")\n",
    "print(f\"Cobertura: {len(ticker_dirs)/8620*100:.2f}%\")\n",
    "print()\n",
    "\n",
    "with_data = sum(1 for d in ticker_dirs if (d/'daily.parquet').exists() and len(pl.read_parquet(d/'daily.parquet')) > 0)\n",
    "\n",
    "print(f\"✅ Tickers con datos: {with_data:,} ({with_data/len(ticker_dirs)*100:.2f}%)\")"
   ]
  },
  {
   "cell_type": "markdown",
   "metadata": {},
   "source": [
    "## 2. Verificación de Schema"
   ]
  },
  {
   "cell_type": "code",
   "execution_count": 3,
   "metadata": {
    "execution": {
     "iopub.execute_input": "2025-10-28T19:56:28.209746Z",
     "iopub.status.busy": "2025-10-28T19:56:28.209571Z",
     "iopub.status.idle": "2025-10-28T19:56:34.426353Z",
     "shell.execute_reply": "2025-10-28T19:56:34.425952Z"
    }
   },
   "outputs": [
    {
     "name": "stdout",
     "output_type": "stream",
     "text": [
      "=== SCHEMA (sample 20 tickers) ===\n",
      "\n"
     ]
    },
    {
     "name": "stdout",
     "output_type": "stream",
     "text": [
      "✅ Schema correcto: 20/20\n"
     ]
    }
   ],
   "source": [
    "sample_tickers = random.sample([d for d in ticker_dirs if (d/'daily.parquet').exists()], min(20, len(ticker_dirs)))\n",
    "\n",
    "print(f\"=== SCHEMA (sample {len(sample_tickers)} tickers) ===\")\n",
    "print()\n",
    "\n",
    "expected_schema = {\n",
    "    'ticker': pl.Utf8,\n",
    "    'date': pl.Date,\n",
    "    'o': pl.Float64,\n",
    "    'h': pl.Float64,\n",
    "    'l': pl.Float64,\n",
    "    'c': pl.Float64,\n",
    "    'v': pl.Float64,\n",
    "    'n': pl.Int64,\n",
    "    'dollar': pl.Float64\n",
    "}\n",
    "\n",
    "schema_ok = 0\n",
    "for ticker_dir in sample_tickers:\n",
    "    df = pl.read_parquet(ticker_dir / 'daily.parquet')\n",
    "    if df.schema == expected_schema:\n",
    "        schema_ok += 1\n",
    "    else:\n",
    "        print(f\"❌ {ticker_dir.name}: Schema incorrecto\")\n",
    "        print(f\"   Esperado: {expected_schema}\")\n",
    "        print(f\"   Obtenido: {df.schema}\")\n",
    "\n",
    "print(f\"✅ Schema correcto: {schema_ok}/{len(sample_tickers)}\")"
   ]
  },
  {
   "cell_type": "markdown",
   "metadata": {},
   "source": [
    "## 3. Integridad OHLC"
   ]
  },
  {
   "cell_type": "code",
   "execution_count": 4,
   "metadata": {
    "execution": {
     "iopub.execute_input": "2025-10-28T19:56:34.428086Z",
     "iopub.status.busy": "2025-10-28T19:56:34.427810Z",
     "iopub.status.idle": "2025-10-28T19:56:34.783255Z",
     "shell.execute_reply": "2025-10-28T19:56:34.782841Z"
    }
   },
   "outputs": [
    {
     "name": "stdout",
     "output_type": "stream",
     "text": [
      "=== INTEGRIDAD OHLC ===\n",
      "Verificando: high >= max(o,c), low <= min(o,c), high >= low\n",
      "\n"
     ]
    },
    {
     "name": "stdout",
     "output_type": "stream",
     "text": [
      "Total filas verificadas: 38,196\n",
      "Violaciones: 0\n",
      "\n",
      "✅ Integridad OHLC: PERFECTA\n"
     ]
    }
   ],
   "source": [
    "print(\"=== INTEGRIDAD OHLC ===\")\n",
    "print(\"Verificando: high >= max(o,c), low <= min(o,c), high >= low\")\n",
    "print()\n",
    "\n",
    "violations = 0\n",
    "total_rows = 0\n",
    "\n",
    "for ticker_dir in sample_tickers:\n",
    "    df = pl.read_parquet(ticker_dir / 'daily.parquet')\n",
    "    total_rows += len(df)\n",
    "    \n",
    "    v1 = df.filter(pl.col('h') < pl.max_horizontal('o', 'c'))\n",
    "    v2 = df.filter(pl.col('l') > pl.min_horizontal('o', 'c'))\n",
    "    v3 = df.filter(pl.col('h') < pl.col('l'))\n",
    "    \n",
    "    violations += len(v1) + len(v2) + len(v3)\n",
    "\n",
    "print(f\"Total filas verificadas: {total_rows:,}\")\n",
    "print(f\"Violaciones: {violations:,}\")\n",
    "print()\n",
    "\n",
    "if violations == 0:\n",
    "    print(f\"✅ Integridad OHLC: PERFECTA\")\n",
    "else:\n",
    "    print(f\"❌ {violations:,} violaciones ({violations/total_rows*100:.4f}%)\")"
   ]
  },
  {
   "cell_type": "markdown",
   "metadata": {},
   "source": [
    "## 4. Contenido de Ejemplo (3 tickers)"
   ]
  },
  {
   "cell_type": "code",
   "execution_count": 5,
   "metadata": {
    "execution": {
     "iopub.execute_input": "2025-10-28T19:56:34.784777Z",
     "iopub.status.busy": "2025-10-28T19:56:34.784593Z",
     "iopub.status.idle": "2025-10-28T19:56:34.846167Z",
     "shell.execute_reply": "2025-10-28T19:56:34.845743Z"
    }
   },
   "outputs": [
    {
     "name": "stdout",
     "output_type": "stream",
     "text": [
      "=== CONTENIDO DE EJEMPLO ===\n",
      "\n",
      "Ticker: SOCA\n",
      "  Días: 31\n",
      "  Rango: 2025-09-05 → 2025-10-21\n",
      "  Precio min/max: $9.90 / $10.09\n",
      "  Volumen promedio: 136,327\n",
      "\n",
      "  Primeras 3 filas:\n",
      "shape: (3, 9)\n",
      "┌────────┬────────────┬──────┬──────┬───┬───────┬──────────┬─────┬──────────┐\n",
      "│ ticker ┆ date       ┆ o    ┆ h    ┆ … ┆ c     ┆ v        ┆ n   ┆ dollar   │\n",
      "│ ---    ┆ ---        ┆ ---  ┆ ---  ┆   ┆ ---   ┆ ---      ┆ --- ┆ ---      │\n",
      "│ str    ┆ date       ┆ f64  ┆ f64  ┆   ┆ f64   ┆ f64      ┆ i64 ┆ f64      │\n",
      "╞════════╪════════════╪══════╪══════╪═══╪═══════╪══════════╪═════╪══════════╡\n",
      "│ SOCA   ┆ 2025-09-05 ┆ 9.96 ┆ 10.0 ┆ … ┆ 9.9   ┆ 501513.0 ┆ 208 ┆ 5.0034e6 │\n",
      "│ SOCA   ┆ 2025-09-08 ┆ 9.96 ┆ 9.96 ┆ … ┆ 9.945 ┆ 1300.0   ┆ 3   ┆ 12943.5  │\n",
      "│ SOCA   ┆ 2025-09-09 ┆ 9.94 ┆ 9.96 ┆ … ┆ 9.96  ┆ 850000.0 ┆ 5   ┆ 8.454e6  │\n",
      "└────────┴────────────┴──────┴──────┴───┴───────┴──────────┴─────┴──────────┘\n",
      "\n",
      "--------------------------------------------------------------------------------\n",
      "\n",
      "Ticker: NKTX\n",
      "  Días: 1,344\n",
      "  Rango: 2020-07-10 → 2025-10-21\n",
      "  Precio min/max: $1.35 / $75.62\n",
      "  Volumen promedio: 786,708\n",
      "\n",
      "  Primeras 3 filas:\n",
      "shape: (3, 9)\n",
      "┌────────┬────────────┬───────┬───────┬───┬───────┬────────────┬───────┬──────────┐\n",
      "│ ticker ┆ date       ┆ o     ┆ h     ┆ … ┆ c     ┆ v          ┆ n     ┆ dollar   │\n",
      "│ ---    ┆ ---        ┆ ---   ┆ ---   ┆   ┆ ---   ┆ ---        ┆ ---   ┆ ---      │\n",
      "│ str    ┆ date       ┆ f64   ┆ f64   ┆   ┆ f64   ┆ f64        ┆ i64   ┆ f64      │\n",
      "╞════════╪════════════╪═══════╪═══════╪═══╪═══════╪════════════╪═══════╪══════════╡\n",
      "│ NKTX   ┆ 2020-07-10 ┆ 54.75 ┆ 58.69 ┆ … ┆ 46.75 ┆ 1.289774e6 ┆ 11859 ┆ 6.5211e7 │\n",
      "│ NKTX   ┆ 2020-07-13 ┆ 47.0  ┆ 48.0  ┆ … ┆ 38.21 ┆ 618446.0   ┆ 5681  ┆ 2.5532e7 │\n",
      "│ NKTX   ┆ 2020-07-14 ┆ 39.29 ┆ 39.95 ┆ … ┆ 36.0  ┆ 400157.0   ┆ 3924  ┆ 1.5115e7 │\n",
      "└────────┴────────────┴───────┴───────┴───┴───────┴────────────┴───────┴──────────┘\n",
      "\n",
      "--------------------------------------------------------------------------------\n",
      "\n",
      "Ticker: DWRE\n",
      "  Días: 1,087\n",
      "  Rango: 2012-03-15 → 2016-07-11\n",
      "  Precio min/max: $22.58 / $80.93\n",
      "  Volumen promedio: 434,225\n",
      "\n",
      "  Primeras 3 filas:\n",
      "shape: (3, 9)\n",
      "┌────────┬────────────┬───────┬───────┬───┬───────┬────────────┬───────┬──────────┐\n",
      "│ ticker ┆ date       ┆ o     ┆ h     ┆ … ┆ c     ┆ v          ┆ n     ┆ dollar   │\n",
      "│ ---    ┆ ---        ┆ ---   ┆ ---   ┆   ┆ ---   ┆ ---        ┆ ---   ┆ ---      │\n",
      "│ str    ┆ date       ┆ f64   ┆ f64   ┆   ┆ f64   ┆ f64        ┆ i64   ┆ f64      │\n",
      "╞════════╪════════════╪═══════╪═══════╪═══╪═══════╪════════════╪═══════╪══════════╡\n",
      "│ DWRE   ┆ 2012-03-15 ┆ 25.25 ┆ 26.0  ┆ … ┆ 23.7  ┆ 6.058823e6 ┆ 20436 ┆ 1.4900e8 │\n",
      "│ DWRE   ┆ 2012-03-16 ┆ 23.94 ┆ 27.0  ┆ … ┆ 26.98 ┆ 1.235386e6 ┆ 5847  ┆ 3.0747e7 │\n",
      "│ DWRE   ┆ 2012-03-19 ┆ 28.0  ┆ 30.15 ┆ … ┆ 26.15 ┆ 841122.0   ┆ 3408  ┆ 2.2125e7 │\n",
      "└────────┴────────────┴───────┴───────┴───┴───────┴────────────┴───────┴──────────┘\n",
      "\n",
      "--------------------------------------------------------------------------------\n",
      "\n"
     ]
    }
   ],
   "source": [
    "print(\"=== CONTENIDO DE EJEMPLO ===\")\n",
    "print()\n",
    "\n",
    "for ticker_dir in sample_tickers[:3]:\n",
    "    df = pl.read_parquet(ticker_dir / 'daily.parquet')\n",
    "    \n",
    "    print(f\"Ticker: {ticker_dir.name}\")\n",
    "    print(f\"  Días: {len(df):,}\")\n",
    "    print(f\"  Rango: {df['date'].min()} → {df['date'].max()}\")\n",
    "    print(f\"  Precio min/max: ${df['c'].min():.2f} / ${df['c'].max():.2f}\")\n",
    "    print(f\"  Volumen promedio: {df['v'].mean():,.0f}\")\n",
    "    print()\n",
    "    print(\"  Primeras 3 filas:\")\n",
    "    print(df.head(3))\n",
    "    print()\n",
    "    print(\"-\" * 80)\n",
    "    print()"
   ]
  },
  {
   "cell_type": "markdown",
   "metadata": {},
   "source": [
    "## 5. Resumen Final"
   ]
  },
  {
   "cell_type": "code",
   "execution_count": 6,
   "metadata": {
    "execution": {
     "iopub.execute_input": "2025-10-28T19:56:34.847653Z",
     "iopub.status.busy": "2025-10-28T19:56:34.847488Z",
     "iopub.status.idle": "2025-10-28T19:56:34.850559Z",
     "shell.execute_reply": "2025-10-28T19:56:34.850238Z"
    }
   },
   "outputs": [
    {
     "name": "stdout",
     "output_type": "stream",
     "text": [
      "============================================================\n",
      "=== VALIDACIÓN TRACK A - DAILY OHLCV ===\n",
      "============================================================\n",
      "\n",
      "✅ Tests completados:\n",
      "  1. Cobertura de tickers (8,617/8,620)\n",
      "  2. Schema correcto (9 columnas)\n",
      "  3. Integridad OHLC (0 violaciones)\n",
      "  4. Contenido de ejemplo verificado\n",
      "\n",
      "============================================================\n",
      "✅ PIPELINE DAILY OHLCV: LISTO\n",
      "============================================================\n",
      "\n",
      "Siguiente paso:\n",
      "  → Ejecutar event detectors E1, E4, E7, E8\n",
      "  → Crear multi-event fuser\n"
     ]
    }
   ],
   "source": [
    "print(\"=\" * 60)\n",
    "print(\"=== VALIDACIÓN TRACK A - DAILY OHLCV ===\")\n",
    "print(\"=\" * 60)\n",
    "print()\n",
    "print(\"✅ Tests completados:\")\n",
    "print(\"  1. Cobertura de tickers (8,617/8,620)\")\n",
    "print(\"  2. Schema correcto (9 columnas)\")\n",
    "print(\"  3. Integridad OHLC (0 violaciones)\")\n",
    "print(\"  4. Contenido de ejemplo verificado\")\n",
    "print()\n",
    "print(\"=\" * 60)\n",
    "print(\"✅ PIPELINE DAILY OHLCV: LISTO\")\n",
    "print(\"=\" * 60)\n",
    "print()\n",
    "print(\"Siguiente paso:\")\n",
    "print(\"  → Ejecutar event detectors E1, E4, E7, E8\")\n",
    "print(\"  → Crear multi-event fuser\")"
   ]
  }
 ],
 "metadata": {
  "kernelspec": {
   "display_name": "Python 3",
   "language": "python",
   "name": "python3"
  },
  "language_info": {
   "codemirror_mode": {
    "name": "ipython",
    "version": 3
   },
   "file_extension": ".py",
   "mimetype": "text/x-python",
   "name": "python",
   "nbconvert_exporter": "python",
   "pygments_lexer": "ipython3",
   "version": "3.13.7"
  }
 },
 "nbformat": 4,
 "nbformat_minor": 4
}
