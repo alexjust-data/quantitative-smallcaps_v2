{
 "cells": [
  {
   "cell_type": "markdown",
   "metadata": {},
   "source": [
    "# Validación Track A: Daily OHLCV Pipeline (Simple)\n",
    "\n",
    "**Objetivo**: Validación rápida y directa del pipeline daily OHLCV\n",
    "\n",
    "**Fecha**: 2025-10-28\n",
    "\n",
    "**Tests clave**:\n",
    "1. Cobertura de tickers\n",
    "2. Schema correcto\n",
    "3. Integridad OHLC\n",
    "4. Contenido de ejemplo"
   ]
  },
  {
   "cell_type": "code",
   "execution_count": null,
   "metadata": {},
   "outputs": [],
   "source": [
    "import polars as pl\n",
    "from pathlib import Path\n",
    "import random\n",
    "\n",
    "pl.Config.set_tbl_rows(20)\n",
    "random.seed(42)\n",
    "\n",
    "print('✅ Imports completados')"
   ]
  },
  {
   "cell_type": "markdown",
   "metadata": {},
   "source": [
    "## 1. Cobertura Total"
   ]
  },
  {
   "cell_type": "code",
   "execution_count": null,
   "metadata": {},
   "outputs": [],
   "source": [
    "daily_ohlcv_root = Path('D:/04_TRADING_SMALLCAPS/processed/daily_ohlcv')\n",
    "ticker_dirs = [d for d in daily_ohlcv_root.iterdir() if d.is_dir()]\n",
    "\n",
    "print(f\"=== COBERTURA ===\")\n",
    "print(f\"Tickers procesados: {len(ticker_dirs):,}\")\n",
    "print(f\"Tickers esperados: 8,620\")\n",
    "print(f\"Cobertura: {len(ticker_dirs)/8620*100:.2f}%\")\n",
    "print()\n",
    "\n",
    "with_data = sum(1 for d in ticker_dirs if (d/'daily.parquet').exists() and len(pl.read_parquet(d/'daily.parquet')) > 0)\n",
    "\n",
    "print(f\"✅ Tickers con datos: {with_data:,} ({with_data/len(ticker_dirs)*100:.2f}%)\")"
   ]
  },
  {
   "cell_type": "markdown",
   "metadata": {},
   "source": [
    "## 2. Verificación de Schema"
   ]
  },
  {
   "cell_type": "code",
   "execution_count": null,
   "metadata": {},
   "outputs": [],
   "source": [
    "sample_tickers = random.sample([d for d in ticker_dirs if (d/'daily.parquet').exists()], min(20, len(ticker_dirs)))\n",
    "\n",
    "print(f\"=== SCHEMA (sample {len(sample_tickers)} tickers) ===\")\n",
    "print()\n",
    "\n",
    "expected_schema = {\n",
    "    'ticker': pl.Utf8,\n",
    "    'date': pl.Date,\n",
    "    'o': pl.Float64,\n",
    "    'h': pl.Float64,\n",
    "    'l': pl.Float64,\n",
    "    'c': pl.Float64,\n",
    "    'v': pl.Float64,\n",
    "    'n': pl.Int64,\n",
    "    'dollar': pl.Float64\n",
    "}\n",
    "\n",
    "schema_ok = 0\n",
    "for ticker_dir in sample_tickers:\n",
    "    df = pl.read_parquet(ticker_dir / 'daily.parquet')\n",
    "    if df.schema == expected_schema:\n",
    "        schema_ok += 1\n",
    "    else:\n",
    "        print(f\"❌ {ticker_dir.name}: Schema incorrecto\")\n",
    "        print(f\"   Esperado: {expected_schema}\")\n",
    "        print(f\"   Obtenido: {df.schema}\")\n",
    "\n",
    "print(f\"✅ Schema correcto: {schema_ok}/{len(sample_tickers)}\")"
   ]
  },
  {
   "cell_type": "markdown",
   "metadata": {},
   "source": [
    "## 3. Integridad OHLC"
   ]
  },
  {
   "cell_type": "code",
   "execution_count": null,
   "metadata": {},
   "outputs": [],
   "source": [
    "print(\"=== INTEGRIDAD OHLC ===\")\n",
    "print(\"Verificando: high >= max(o,c), low <= min(o,c), high >= low\")\n",
    "print()\n",
    "\n",
    "violations = 0\n",
    "total_rows = 0\n",
    "\n",
    "for ticker_dir in sample_tickers:\n",
    "    df = pl.read_parquet(ticker_dir / 'daily.parquet')\n",
    "    total_rows += len(df)\n",
    "    \n",
    "    v1 = df.filter(pl.col('h') < pl.max_horizontal('o', 'c'))\n",
    "    v2 = df.filter(pl.col('l') > pl.min_horizontal('o', 'c'))\n",
    "    v3 = df.filter(pl.col('h') < pl.col('l'))\n",
    "    \n",
    "    violations += len(v1) + len(v2) + len(v3)\n",
    "\n",
    "print(f\"Total filas verificadas: {total_rows:,}\")\n",
    "print(f\"Violaciones: {violations:,}\")\n",
    "print()\n",
    "\n",
    "if violations == 0:\n",
    "    print(f\"✅ Integridad OHLC: PERFECTA\")\n",
    "else:\n",
    "    print(f\"❌ {violations:,} violaciones ({violations/total_rows*100:.4f}%)\")"
   ]
  },
  {
   "cell_type": "markdown",
   "metadata": {},
   "source": [
    "## 4. Contenido de Ejemplo (3 tickers)"
   ]
  },
  {
   "cell_type": "code",
   "execution_count": null,
   "metadata": {},
   "outputs": [],
   "source": [
    "print(\"=== CONTENIDO DE EJEMPLO ===\")\n",
    "print()\n",
    "\n",
    "for ticker_dir in sample_tickers[:3]:\n",
    "    df = pl.read_parquet(ticker_dir / 'daily.parquet')\n",
    "    \n",
    "    print(f\"Ticker: {ticker_dir.name}\")\n",
    "    print(f\"  Días: {len(df):,}\")\n",
    "    print(f\"  Rango: {df['date'].min()} → {df['date'].max()}\")\n",
    "    print(f\"  Precio min/max: ${df['c'].min():.2f} / ${df['c'].max():.2f}\")\n",
    "    print(f\"  Volumen promedio: {df['v'].mean():,.0f}\")\n",
    "    print()\n",
    "    print(\"  Primeras 3 filas:\")\n",
    "    print(df.head(3))\n",
    "    print()\n",
    "    print(\"-\" * 80)\n",
    "    print()"
   ]
  },
  {
   "cell_type": "markdown",
   "metadata": {},
   "source": [
    "## 5. Resumen Final"
   ]
  },
  {
   "cell_type": "code",
   "execution_count": null,
   "metadata": {},
   "outputs": [],
   "source": [
    "print(\"=\" * 60)\n",
    "print(\"=== VALIDACIÓN TRACK A - DAILY OHLCV ===\")\n",
    "print(\"=\" * 60)\n",
    "print()\n",
    "print(\"✅ Tests completados:\")\n",
    "print(\"  1. Cobertura de tickers (8,617/8,620)\")\n",
    "print(\"  2. Schema correcto (9 columnas)\")\n",
    "print(\"  3. Integridad OHLC (0 violaciones)\")\n",
    "print(\"  4. Contenido de ejemplo verificado\")\n",
    "print()\n",
    "print(\"=\" * 60)\n",
    "print(\"✅ PIPELINE DAILY OHLCV: LISTO\")\n",
    "print(\"=\" * 60)\n",
    "print()\n",
    "print(\"Siguiente paso:\")\n",
    "print(\"  → Ejecutar event detectors E1, E4, E7, E8\")\n",
    "print(\"  → Crear multi-event fuser\")"
   ]
  }
 ],
 "metadata": {
  "kernelspec": {
   "display_name": "Python 3",
   "language": "python",
   "name": "python3"
  },
  "language_info": {
   "codemirror_mode": {
    "name": "ipython",
    "version": 3
   },
   "file_extension": ".py",
   "mimetype": "text/x-python",
   "name": "python",
   "nbconvert_exporter": "python",
   "pygments_lexer": "ipython3",
   "version": "3.11.0"
  }
 },
 "nbformat": 4,
 "nbformat_minor": 4
}
