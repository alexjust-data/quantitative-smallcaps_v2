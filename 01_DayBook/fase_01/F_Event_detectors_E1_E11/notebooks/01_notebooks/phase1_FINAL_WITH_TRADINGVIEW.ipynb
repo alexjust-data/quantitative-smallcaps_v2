{
 "cells": [
  {
   "cell_type": "markdown",
   "metadata": {},
   "source": [
    "# Fase 1: Information Theory - Validación Híbrida Ventanas\n",
    "\n",
    "**Objetivo**: Calcular Mutual Information entre features diarias y retornos futuros para identificar días con información predictiva.\n",
    "\n",
    "**Método**: Information Theory (model-agnostic)\n",
    "- Mutual Information I(X_t; y) por día relativo\n",
    "- Filtrado rápido: descarta días sin señal\n",
    "- Solo usa columnas básicas de DIB bars\n",
    "\n",
    "**Output**: `phase1_results.pkl` con info_results por evento\n",
    "\n",
    "**Tiempo estimado**: 10-20 min (con sample_size=200)"
   ]
  },
  {
   "cell_type": "markdown",
   "metadata": {},
   "source": [
    "## 0. Setup"
   ]
  },
  {
   "cell_type": "code",
   "execution_count": 1,
   "metadata": {
    "execution": {
     "iopub.execute_input": "2025-10-30T09:14:12.107491Z",
     "iopub.status.busy": "2025-10-30T09:14:12.107323Z",
     "iopub.status.idle": "2025-10-30T09:14:13.346884Z",
     "shell.execute_reply": "2025-10-30T09:14:13.346469Z"
    }
   },
   "outputs": [
    {
     "name": "stdout",
     "output_type": "stream",
     "text": [
      "DIB bars dir exists: True\n",
      "Watchlist exists: True\n",
      "Output dir: D:\\04_TRADING_SMALLCAPS\\01_DayBook\\fase_01\\F_Event_detectors_E1_E11\\notebooks\n"
     ]
    }
   ],
   "source": [
    "import polars as pl\n",
    "import numpy as np\n",
    "import pandas as pd\n",
    "from pathlib import Path\n",
    "from datetime import datetime, timedelta\n",
    "import matplotlib.pyplot as plt\n",
    "import seaborn as sns\n",
    "from sklearn.metrics import mutual_info_score\n",
    "import pickle\n",
    "import warnings\n",
    "warnings.filterwarnings('ignore')\n",
    "\n",
    "# Config\n",
    "sns.set_style('whitegrid')\n",
    "plt.rcParams['figure.figsize'] = (14, 8)\n",
    "\n",
    "# Paths\n",
    "BARS_ROOT = Path('../../../../processed/dib_bars/pilot50_validation')\n",
    "WATCHLIST = Path('../../../../processed/universe/pilot50_validation/daily')\n",
    "OUTPUT_DIR = Path('.')\n",
    "\n",
    "print(f\"DIB bars dir exists: {BARS_ROOT.exists()}\")\n",
    "print(f\"Watchlist exists: {WATCHLIST.exists()}\")\n",
    "print(f\"Output dir: {OUTPUT_DIR.absolute()}\")"
   ]
  },
  {
   "cell_type": "markdown",
   "metadata": {},
   "source": [
    "## 1. Cargar Watchlist con Eventos"
   ]
  },
  {
   "cell_type": "code",
   "execution_count": 2,
   "metadata": {
    "execution": {
     "iopub.execute_input": "2025-10-30T09:14:13.370652Z",
     "iopub.status.busy": "2025-10-30T09:14:13.370377Z",
     "iopub.status.idle": "2025-10-30T09:14:18.010132Z",
     "shell.execute_reply": "2025-10-30T09:14:18.009716Z"
    }
   },
   "outputs": [
    {
     "name": "stdout",
     "output_type": "stream",
     "text": [
      "Encontrados 5,579 watchlist files\n"
     ]
    },
    {
     "name": "stdout",
     "output_type": "stream",
     "text": [
      "Total watchlist rows: 37,274\n",
      "Total event occurrences: 44,795\n",
      "\n",
      "Eventos disponibles: ['E10_FirstGreenBounce', 'E11_VolumeBounce', 'E1_VolExplosion', 'E2_GapUp', 'E3_PriceSpikeIntraday', 'E4_Parabolic', 'E5_BreakoutATH', 'E6_MultipleGreenDays', 'E7_FirstRedDay', 'E8_GapDownViolent', 'E9_CrashIntraday']\n"
     ]
    },
    {
     "data": {
      "text/html": [
       "<div><style>\n",
       ".dataframe > thead > tr,\n",
       ".dataframe > tbody > tr {\n",
       "  text-align: right;\n",
       "  white-space: pre-wrap;\n",
       "}\n",
       "</style>\n",
       "<small>shape: (5, 5)</small><table border=\"1\" class=\"dataframe\"><thead><tr><th>ticker</th><th>date</th><th>event_code</th><th>event_count</th><th>info_rich</th></tr><tr><td>str</td><td>date</td><td>str</td><td>u32</td><td>bool</td></tr></thead><tbody><tr><td>&quot;AGM&quot;</td><td>2004-01-02</td><td>&quot;E5_BreakoutATH&quot;</td><td>1</td><td>true</td></tr><tr><td>&quot;DCTH&quot;</td><td>2004-01-02</td><td>&quot;E5_BreakoutATH&quot;</td><td>1</td><td>true</td></tr><tr><td>&quot;DSE&quot;</td><td>2004-01-02</td><td>&quot;E5_BreakoutATH&quot;</td><td>1</td><td>true</td></tr><tr><td>&quot;IDT&quot;</td><td>2004-01-02</td><td>&quot;E5_BreakoutATH&quot;</td><td>1</td><td>true</td></tr><tr><td>&quot;LPSN&quot;</td><td>2004-01-02</td><td>&quot;E5_BreakoutATH&quot;</td><td>1</td><td>true</td></tr></tbody></table></div>"
      ],
      "text/plain": [
       "shape: (5, 5)\n",
       "┌────────┬────────────┬────────────────┬─────────────┬───────────┐\n",
       "│ ticker ┆ date       ┆ event_code     ┆ event_count ┆ info_rich │\n",
       "│ ---    ┆ ---        ┆ ---            ┆ ---         ┆ ---       │\n",
       "│ str    ┆ date       ┆ str            ┆ u32         ┆ bool      │\n",
       "╞════════╪════════════╪════════════════╪═════════════╪═══════════╡\n",
       "│ AGM    ┆ 2004-01-02 ┆ E5_BreakoutATH ┆ 1           ┆ true      │\n",
       "│ DCTH   ┆ 2004-01-02 ┆ E5_BreakoutATH ┆ 1           ┆ true      │\n",
       "│ DSE    ┆ 2004-01-02 ┆ E5_BreakoutATH ┆ 1           ┆ true      │\n",
       "│ IDT    ┆ 2004-01-02 ┆ E5_BreakoutATH ┆ 1           ┆ true      │\n",
       "│ LPSN   ┆ 2004-01-02 ┆ E5_BreakoutATH ┆ 1           ┆ true      │\n",
       "└────────┴────────────┴────────────────┴─────────────┴───────────┘"
      ]
     },
     "execution_count": 2,
     "metadata": {},
     "output_type": "execute_result"
    }
   ],
   "source": [
    "# Cargar todos los watchlists particionados por fecha\n",
    "watchlist_files = list(WATCHLIST.rglob('watchlist.parquet'))\n",
    "print(f\"Encontrados {len(watchlist_files):,} watchlist files\")\n",
    "\n",
    "wl_parts = []\n",
    "for wl_file in watchlist_files:\n",
    "    # Extract date from path: date=YYYY-MM-DD/watchlist.parquet\n",
    "    date_str = wl_file.parent.name.split('=')[1]\n",
    "    df = pl.read_parquet(wl_file)\n",
    "    df = df.with_columns([pl.lit(date_str).alias('date')])\n",
    "    wl_parts.append(df)\n",
    "\n",
    "wl = pl.concat(wl_parts)\n",
    "print(f\"Total watchlist rows: {wl.height:,}\")\n",
    "\n",
    "# Convertir date a pl.Date\n",
    "wl = wl.with_columns([\n",
    "    pl.col('date').str.strptime(pl.Date, format='%Y-%m-%d')\n",
    "])\n",
    "\n",
    "# Expandir una fila por evento\n",
    "wl_expanded = wl.explode('events').rename({'events': 'event_code'})\n",
    "print(f\"Total event occurrences: {wl_expanded.height:,}\")\n",
    "\n",
    "# Eventos disponibles\n",
    "events_available = sorted(wl_expanded['event_code'].unique().to_list())\n",
    "print(f\"\\nEventos disponibles: {events_available}\")\n",
    "\n",
    "wl_expanded.head()"
   ]
  },
  {
   "cell_type": "markdown",
   "metadata": {},
   "source": [
    "## 2. Funciones de Información Mutua"
   ]
  },
  {
   "cell_type": "code",
   "execution_count": 3,
   "metadata": {
    "execution": {
     "iopub.execute_input": "2025-10-30T09:14:18.011756Z",
     "iopub.status.busy": "2025-10-30T09:14:18.011566Z",
     "iopub.status.idle": "2025-10-30T09:14:18.016539Z",
     "shell.execute_reply": "2025-10-30T09:14:18.016143Z"
    }
   },
   "outputs": [
    {
     "name": "stdout",
     "output_type": "stream",
     "text": [
      "✓ Funciones de información mutua definidas\n"
     ]
    }
   ],
   "source": [
    "def load_dib_bars_day(ticker: str, day: datetime.date) -> pl.DataFrame:\n",
    "    \"\"\"\n",
    "    Carga DIB bars de un ticker en un día específico.\n",
    "    \"\"\"\n",
    "    bars_file = BARS_ROOT / ticker / f\"date={day.isoformat()}\" / \"dollar_imbalance.parquet\"\n",
    "    if not bars_file.exists():\n",
    "        return None\n",
    "    return pl.read_parquet(bars_file)\n",
    "\n",
    "\n",
    "def aggregate_day_features(df_bars: pl.DataFrame) -> dict:\n",
    "    \"\"\"\n",
    "    Agrega features intradía de DIB bars a features diarias.\n",
    "    Solo usa columnas básicas: o, h, l, c, v, n, dollar, imbalance_score\n",
    "    \"\"\"\n",
    "    if df_bars is None or df_bars.height == 0:\n",
    "        return None\n",
    "    \n",
    "    # Calcular features agregados del día\n",
    "    agg = df_bars.select([\n",
    "        ((pl.col('c') - pl.col('o')) / pl.col('o')).mean().alias('ret_day'),\n",
    "        ((pl.col('h') - pl.col('l')) / pl.col('o')).mean().alias('range_day'),\n",
    "        pl.col('v').sum().alias('vol_day'),\n",
    "        pl.col('dollar').sum().alias('dollar_day'),\n",
    "        pl.col('imbalance_score').mean().alias('imb_day'),\n",
    "        pl.col('n').sum().alias('n_bars')\n",
    "    ])\n",
    "    \n",
    "    return agg.to_dicts()[0] if agg.height > 0 else None\n",
    "\n",
    "\n",
    "def calculate_mutual_information_discretized(\n",
    "    X: np.ndarray,\n",
    "    y: np.ndarray,\n",
    "    bins: int = 10\n",
    ") -> float:\n",
    "    \"\"\"\n",
    "    Calcula mutual information promedio entre features X y target y.\n",
    "    \"\"\"\n",
    "    y_binned = pd.cut(y, bins=bins, labels=False, duplicates='drop')\n",
    "    \n",
    "    mi_scores = []\n",
    "    for col_idx in range(X.shape[1]):\n",
    "        x_col = X[:, col_idx]\n",
    "        x_binned = pd.cut(x_col, bins=bins, labels=False, duplicates='drop')\n",
    "        \n",
    "        valid_mask = ~(pd.isna(x_binned) | pd.isna(y_binned))\n",
    "        if valid_mask.sum() > 10:\n",
    "            mi = mutual_info_score(x_binned[valid_mask], y_binned[valid_mask])\n",
    "            mi_scores.append(mi)\n",
    "    \n",
    "    return np.mean(mi_scores) if mi_scores else 0.0\n",
    "\n",
    "\n",
    "print(\"✓ Funciones de información mutua definidas\")"
   ]
  },
  {
   "cell_type": "markdown",
   "metadata": {},
   "source": [
    "## 3. Calcular MI por Día Relativo"
   ]
  },
  {
   "cell_type": "code",
   "execution_count": 4,
   "metadata": {
    "execution": {
     "iopub.execute_input": "2025-10-30T09:14:18.017956Z",
     "iopub.status.busy": "2025-10-30T09:14:18.017793Z",
     "iopub.status.idle": "2025-10-30T09:14:18.022701Z",
     "shell.execute_reply": "2025-10-30T09:14:18.022319Z"
    }
   },
   "outputs": [
    {
     "name": "stdout",
     "output_type": "stream",
     "text": [
      "✓ Función de análisis por día relativo definida\n"
     ]
    }
   ],
   "source": [
    "def analyze_information_by_relative_day(\n",
    "    event_code: str,\n",
    "    max_pre: int = 7,\n",
    "    max_post: int = 7,\n",
    "    sample_size: int = 500\n",
    ") -> dict:\n",
    "    \"\"\"\n",
    "    Para un evento, calcula I(X_t; y) para cada día t relativo al evento.\n",
    "    \n",
    "    Returns:\n",
    "        {rel_day: mutual_information_score}\n",
    "    \"\"\"\n",
    "    # Filtrar eventos de este tipo\n",
    "    subset = wl_expanded.filter(pl.col('event_code') == event_code)\n",
    "    \n",
    "    # Sample para acelerar (opcional)\n",
    "    if subset.height > sample_size:\n",
    "        subset = subset.sample(sample_size, seed=42)\n",
    "    \n",
    "    print(f\"\\nAnalizando {event_code}: {subset.height} ocurrencias\")\n",
    "    \n",
    "    # Recolectar datos por día relativo\n",
    "    data_by_day = {}\n",
    "    \n",
    "    for rel_day in range(-max_pre, max_post + 1):\n",
    "        features_list = []\n",
    "        targets_list = []\n",
    "        \n",
    "        for row in subset.iter_rows(named=True):\n",
    "            ticker = row['ticker']\n",
    "            t0 = row['date']\n",
    "            \n",
    "            # Día relativo actual\n",
    "            d = t0 + timedelta(days=rel_day)\n",
    "            bars = load_dib_bars_day(ticker, d)\n",
    "            \n",
    "            if bars is None or bars.height == 0:\n",
    "                continue\n",
    "            \n",
    "            # Features agregados del día\n",
    "            feat = aggregate_day_features(bars)\n",
    "            if feat is None:\n",
    "                continue\n",
    "            \n",
    "            # Target: retorno futuro desde t0 (día evento)\n",
    "            # Usamos bars del día t0+1, t0+2, t0+3 para calcular ret_3d\n",
    "            bars_t0 = load_dib_bars_day(ticker, t0)\n",
    "            bars_t3 = load_dib_bars_day(ticker, t0 + timedelta(days=3))\n",
    "            \n",
    "            if bars_t0 is None or bars_t3 is None:\n",
    "                continue\n",
    "            if bars_t0.height == 0 or bars_t3.height == 0:\n",
    "                continue\n",
    "            \n",
    "            # Calcular retorno 3d\n",
    "            p0 = bars_t0['c'][-1]\n",
    "            p3 = bars_t3['c'][-1]\n",
    "            ret_3d = (p3 - p0) / p0\n",
    "            \n",
    "            features_list.append(list(feat.values()))\n",
    "            targets_list.append(ret_3d)\n",
    "        \n",
    "        if len(features_list) < 50:\n",
    "            data_by_day[rel_day] = 0.0\n",
    "            continue\n",
    "        \n",
    "        X = np.array(features_list)\n",
    "        y = np.array(targets_list)\n",
    "        \n",
    "        # Calcular MI\n",
    "        mi = calculate_mutual_information_discretized(X, y, bins=10)\n",
    "        data_by_day[rel_day] = mi\n",
    "        \n",
    "        print(f\"  t={rel_day:+d}: MI={mi:.4f} (n={len(features_list)})\")\n",
    "    \n",
    "    return data_by_day\n",
    "\n",
    "\n",
    "print(\"✓ Función de análisis por día relativo definida\")"
   ]
  },
  {
   "cell_type": "markdown",
   "metadata": {},
   "source": [
    "## 4. Ejecutar Análisis Information Theory\n",
    "\n",
    "**NOTA**: Ajusta `EVENTS_TO_TEST` según necesites:\n",
    "- `[:3]` → Prueba rápida (3 eventos, ~10-15 min)\n",
    "- Sin slice → Análisis completo (11 eventos, ~40-60 min)"
   ]
  },
  {
   "cell_type": "code",
   "execution_count": 5,
   "metadata": {
    "execution": {
     "iopub.execute_input": "2025-10-30T09:14:18.024253Z",
     "iopub.status.busy": "2025-10-30T09:14:18.024087Z",
     "iopub.status.idle": "2025-10-30T09:14:25.044777Z",
     "shell.execute_reply": "2025-10-30T09:14:25.044322Z"
    }
   },
   "outputs": [
    {
     "name": "stdout",
     "output_type": "stream",
     "text": [
      "Analizando 3 eventos con ventana [-3, 3]\n",
      "Sample size: 200 ocurrencias por evento\n",
      "\n",
      "\n",
      "Analizando E10_FirstGreenBounce: 200 ocurrencias\n"
     ]
    },
    {
     "name": "stdout",
     "output_type": "stream",
     "text": [
      "  t=-3: MI=0.2667 (n=76)\n"
     ]
    },
    {
     "name": "stdout",
     "output_type": "stream",
     "text": [
      "  t=-1: MI=0.2883 (n=71)\n"
     ]
    },
    {
     "name": "stdout",
     "output_type": "stream",
     "text": [
      "  t=+0: MI=0.1473 (n=120)\n"
     ]
    },
    {
     "name": "stdout",
     "output_type": "stream",
     "text": [
      "  t=+1: MI=0.1965 (n=86)\n"
     ]
    },
    {
     "name": "stdout",
     "output_type": "stream",
     "text": [
      "  t=+2: MI=0.2386 (n=84)\n"
     ]
    },
    {
     "name": "stdout",
     "output_type": "stream",
     "text": [
      "  t=+3: MI=0.2119 (n=120)\n",
      "\n",
      "Analizando E11_VolumeBounce: 200 ocurrencias\n"
     ]
    },
    {
     "name": "stdout",
     "output_type": "stream",
     "text": [
      "  t=-3: MI=0.0587 (n=69)\n"
     ]
    },
    {
     "name": "stdout",
     "output_type": "stream",
     "text": [
      "  t=-1: MI=0.0229 (n=78)\n"
     ]
    },
    {
     "name": "stdout",
     "output_type": "stream",
     "text": [
      "  t=+0: MI=0.0439 (n=116)\n"
     ]
    },
    {
     "name": "stdout",
     "output_type": "stream",
     "text": [
      "  t=+1: MI=0.0377 (n=81)\n"
     ]
    },
    {
     "name": "stdout",
     "output_type": "stream",
     "text": [
      "  t=+2: MI=0.0280 (n=81)\n"
     ]
    },
    {
     "name": "stdout",
     "output_type": "stream",
     "text": [
      "  t=+3: MI=0.0336 (n=116)\n",
      "\n",
      "Analizando E1_VolExplosion: 200 ocurrencias\n"
     ]
    },
    {
     "name": "stdout",
     "output_type": "stream",
     "text": [
      "  t=-3: MI=0.1826 (n=71)\n"
     ]
    },
    {
     "name": "stdout",
     "output_type": "stream",
     "text": [
      "  t=-1: MI=0.1403 (n=69)\n"
     ]
    },
    {
     "name": "stdout",
     "output_type": "stream",
     "text": [
      "  t=+0: MI=0.1561 (n=108)\n"
     ]
    },
    {
     "name": "stdout",
     "output_type": "stream",
     "text": [
      "  t=+1: MI=0.2625 (n=73)\n"
     ]
    },
    {
     "name": "stdout",
     "output_type": "stream",
     "text": [
      "  t=+2: MI=0.2873 (n=70)\n"
     ]
    },
    {
     "name": "stdout",
     "output_type": "stream",
     "text": [
      "  t=+3: MI=0.1843 (n=108)\n",
      "\n",
      "============================================================\n",
      "✓ Análisis Information Theory completado\n",
      "Eventos analizados: 3\n",
      "============================================================\n"
     ]
    }
   ],
   "source": [
    "# CONFIGURACIÓN: Ajusta aquí el subset de eventos\n",
    "EVENTS_TO_TEST = events_available[:3]  # Cambiar a events_available para análisis completo\n",
    "MAX_PRE_DAYS = 3\n",
    "MAX_POST_DAYS = 3\n",
    "SAMPLE_SIZE = 200  # Reducir a 100 para más velocidad, aumentar a 500 para más precisión\n",
    "\n",
    "print(f\"Analizando {len(EVENTS_TO_TEST)} eventos con ventana [{-MAX_PRE_DAYS}, {MAX_POST_DAYS}]\")\n",
    "print(f\"Sample size: {SAMPLE_SIZE} ocurrencias por evento\\n\")\n",
    "\n",
    "info_results = {}\n",
    "\n",
    "for event in EVENTS_TO_TEST:\n",
    "    info_by_day = analyze_information_by_relative_day(\n",
    "        event,\n",
    "        max_pre=MAX_PRE_DAYS,\n",
    "        max_post=MAX_POST_DAYS,\n",
    "        sample_size=SAMPLE_SIZE\n",
    "    )\n",
    "    info_results[event] = info_by_day\n",
    "\n",
    "print(\"\\n\" + \"=\"*60)\n",
    "print(\"✓ Análisis Information Theory completado\")\n",
    "print(f\"Eventos analizados: {len(info_results)}\")\n",
    "print(\"=\"*60)"
   ]
  },
  {
   "cell_type": "markdown",
   "metadata": {},
   "source": [
    "## 5. Visualizar Información por Día"
   ]
  },
  {
   "cell_type": "code",
   "execution_count": 6,
   "metadata": {
    "execution": {
     "iopub.execute_input": "2025-10-30T09:14:25.046320Z",
     "iopub.status.busy": "2025-10-30T09:14:25.046167Z",
     "iopub.status.idle": "2025-10-30T09:14:25.766862Z",
     "shell.execute_reply": "2025-10-30T09:14:25.766358Z"
    }
   },
   "outputs": [
    {
     "data": {
      "image/png": "[encoded data removed]",
      "text/plain": [
       "<Figure size 1200x1200 with 3 Axes>"
      ]
     },
     "metadata": {},
     "output_type": "display_data"
    },
    {
     "name": "stdout",
     "output_type": "stream",
     "text": [
      "✓ Gráfico guardado: information_by_day_phase1.png\n"
     ]
    }
   ],
   "source": [
    "fig, axes = plt.subplots(len(info_results), 1, figsize=(12, 4 * len(info_results)))\n",
    "\n",
    "if len(info_results) == 1:\n",
    "    axes = [axes]\n",
    "\n",
    "for idx, (event, info_by_day) in enumerate(info_results.items()):\n",
    "    ax = axes[idx]\n",
    "    \n",
    "    days = sorted(info_by_day.keys())\n",
    "    mi_scores = [info_by_day[d] for d in days]\n",
    "    \n",
    "    # Normalizar\n",
    "    max_mi = max(mi_scores) if max(mi_scores) > 0 else 1.0\n",
    "    mi_norm = [m / max_mi for m in mi_scores]\n",
    "    \n",
    "    # Plot\n",
    "    ax.bar(days, mi_norm, alpha=0.7, color='steelblue')\n",
    "    ax.axvline(x=0, color='red', linestyle='--', linewidth=2, label='Día Evento (t=0)')\n",
    "    ax.axhline(y=0.1, color='orange', linestyle=':', label='Threshold 10%')\n",
    "    \n",
    "    # Marcar días significativos\n",
    "    significant_days = [d for d, mi in zip(days, mi_norm) if mi >= 0.1]\n",
    "    if significant_days:\n",
    "        t_start, t_end = min(significant_days), max(significant_days)\n",
    "        ax.axvspan(t_start - 0.5, t_end + 0.5, alpha=0.2, color='green',\n",
    "                   label=f'Ventana sugerida: [{t_start}, {t_end}]')\n",
    "    \n",
    "    ax.set_xlabel('Días Relativos al Evento')\n",
    "    ax.set_ylabel('Mutual Information (normalizado)')\n",
    "    ax.set_title(f'{event}: Información por Día Relativo')\n",
    "    ax.legend()\n",
    "    ax.grid(True, alpha=0.3)\n",
    "\n",
    "plt.tight_layout()\n",
    "plt.savefig('information_by_day_phase1.png', dpi=150, bbox_inches='tight')\n",
    "plt.show()\n",
    "\n",
    "print(\"✓ Gráfico guardado: information_by_day_phase1.png\")"
   ]
  },
  {
   "cell_type": "markdown",
   "metadata": {},
   "source": [
    "## 6. Resumen: Ventanas Sugeridas por MI"
   ]
  },
  {
   "cell_type": "code",
   "execution_count": 7,
   "metadata": {
    "execution": {
     "iopub.execute_input": "2025-10-30T09:14:25.768537Z",
     "iopub.status.busy": "2025-10-30T09:14:25.768353Z",
     "iopub.status.idle": "2025-10-30T09:14:25.772192Z",
     "shell.execute_reply": "2025-10-30T09:14:25.771806Z"
    }
   },
   "outputs": [
    {
     "name": "stdout",
     "output_type": "stream",
     "text": [
      "\n",
      "================================================================================\n",
      "VENTANAS SUGERIDAS POR MUTUAL INFORMATION (threshold 10%)\n",
      "================================================================================\n",
      "  E10_FirstGreenBounce      → [-3, +3]\n",
      "  E11_VolumeBounce          → [-3, +3]\n",
      "  E1_VolExplosion           → [-3, +3]\n",
      "================================================================================\n"
     ]
    }
   ],
   "source": [
    "print(\"\\n\" + \"=\"*80)\n",
    "print(\"VENTANAS SUGERIDAS POR MUTUAL INFORMATION (threshold 10%)\")\n",
    "print(\"=\"*80)\n",
    "\n",
    "suggested_windows = {}\n",
    "\n",
    "for event, info_by_day in info_results.items():\n",
    "    days = sorted(info_by_day.keys())\n",
    "    mi_scores = [info_by_day[d] for d in days]\n",
    "    max_mi = max(mi_scores) if max(mi_scores) > 0 else 1.0\n",
    "    mi_norm = [m / max_mi for m in mi_scores]\n",
    "    significant_days = [d for d, mi in zip(days, mi_norm) if mi >= 0.1]\n",
    "    \n",
    "    if significant_days:\n",
    "        window = (min(significant_days), max(significant_days))\n",
    "        suggested_windows[event] = window\n",
    "        print(f\"  {event:<25} → [{window[0]:+d}, {window[1]:+d}]\")\n",
    "    else:\n",
    "        suggested_windows[event] = None\n",
    "        print(f\"  {event:<25} → Sin ventana clara (MI muy bajo)\")\n",
    "\n",
    "print(\"=\"*80)"
   ]
  },
  {
   "cell_type": "markdown",
   "metadata": {},
   "source": [
    "## 7. Guardar Resultados Fase 1\n",
    "\n",
    "**Output**: `phase1_results.pkl` con todos los datos necesarios para Fase 2"
   ]
  },
  {
   "cell_type": "code",
   "execution_count": 8,
   "metadata": {
    "execution": {
     "iopub.execute_input": "2025-10-30T09:14:25.773637Z",
     "iopub.status.busy": "2025-10-30T09:14:25.773454Z",
     "iopub.status.idle": "2025-10-30T09:14:25.858132Z",
     "shell.execute_reply": "2025-10-30T09:14:25.857735Z"
    }
   },
   "outputs": [
    {
     "name": "stdout",
     "output_type": "stream",
     "text": [
      "\n",
      "================================================================================\n",
      "✓ FASE 1 COMPLETADA\n",
      "================================================================================\n",
      "Resultados guardados en: D:\\04_TRADING_SMALLCAPS\\01_DayBook\\fase_01\\F_Event_detectors_E1_E11\\notebooks\\phase1_results.pkl\n",
      "\n",
      "Contenido:\n",
      "  - info_results: 3 eventos con MI por día relativo\n",
      "  - wl_expanded: 44,795 event occurrences\n",
      "  - events_available: 11 eventos totales\n",
      "  - suggested_windows: 3 ventanas sugeridas\n",
      "\n",
      "Próximo paso: Ejecutar phase2_model_performance.ipynb\n",
      "================================================================================\n"
     ]
    }
   ],
   "source": [
    "# Empaquetar resultados\n",
    "results_phase1 = {\n",
    "    'info_results': info_results,\n",
    "    'wl_expanded': wl_expanded,\n",
    "    'events_available': events_available,\n",
    "    'suggested_windows': suggested_windows,\n",
    "    'config': {\n",
    "        'max_pre_days': MAX_PRE_DAYS,\n",
    "        'max_post_days': MAX_POST_DAYS,\n",
    "        'sample_size': SAMPLE_SIZE,\n",
    "        'events_tested': EVENTS_TO_TEST\n",
    "    }\n",
    "}\n",
    "\n",
    "# Guardar a disco\n",
    "output_file = OUTPUT_DIR / 'phase1_results.pkl'\n",
    "with open(output_file, 'wb') as f:\n",
    "    pickle.dump(results_phase1, f)\n",
    "\n",
    "print(\"\\n\" + \"=\"*80)\n",
    "print(\"✓ FASE 1 COMPLETADA\")\n",
    "print(\"=\"*80)\n",
    "print(f\"Resultados guardados en: {output_file.absolute()}\")\n",
    "print(f\"\\nContenido:\")\n",
    "print(f\"  - info_results: {len(info_results)} eventos con MI por día relativo\")\n",
    "print(f\"  - wl_expanded: {wl_expanded.height:,} event occurrences\")\n",
    "print(f\"  - events_available: {len(events_available)} eventos totales\")\n",
    "print(f\"  - suggested_windows: {len([w for w in suggested_windows.values() if w])} ventanas sugeridas\")\n",
    "print(f\"\\nPróximo paso: Ejecutar phase2_model_performance.ipynb\")\n",
    "print(\"=\"*80)"
   ]
  },
  {
   "cell_type": "code",
   "execution_count": 9,
   "metadata": {
    "execution": {
     "iopub.execute_input": "2025-10-30T09:14:25.859701Z",
     "iopub.status.busy": "2025-10-30T09:14:25.859538Z",
     "iopub.status.idle": "2025-10-30T09:25:37.301404Z",
     "shell.execute_reply": "2025-10-30T09:25:37.300883Z"
    }
   },
   "outputs": [
    {
     "name": "stdout",
     "output_type": "stream",
     "text": [
      "================================================================================\n",
      "EXPORTANDO EVENTOS PARA TRADINGVIEW\n",
      "================================================================================\n",
      "\n",
      "Procesando E10_FirstGreenBounce: 8,520 ocurrencias\n"
     ]
    },
    {
     "name": "stdout",
     "output_type": "stream",
     "text": [
      "  Procesados 100 / 8,520 eventos...\n"
     ]
    },
    {
     "name": "stdout",
     "output_type": "stream",
     "text": [
      "  Procesados 200 / 8,520 eventos...\n"
     ]
    },
    {
     "name": "stdout",
     "output_type": "stream",
     "text": [
      "  Procesados 300 / 8,520 eventos...\n"
     ]
    },
    {
     "name": "stdout",
     "output_type": "stream",
     "text": [
      "  Procesados 400 / 8,520 eventos...\n"
     ]
    },
    {
     "name": "stdout",
     "output_type": "stream",
     "text": [
      "  Procesados 500 / 8,520 eventos...\n"
     ]
    },
    {
     "name": "stdout",
     "output_type": "stream",
     "text": [
      "  Procesados 600 / 8,520 eventos...\n"
     ]
    },
    {
     "name": "stdout",
     "output_type": "stream",
     "text": [
      "  Procesados 700 / 8,520 eventos...\n"
     ]
    },
    {
     "name": "stdout",
     "output_type": "stream",
     "text": [
      "  Procesados 800 / 8,520 eventos...\n"
     ]
    },
    {
     "name": "stdout",
     "output_type": "stream",
     "text": [
      "  Procesados 900 / 8,520 eventos...\n"
     ]
    },
    {
     "name": "stdout",
     "output_type": "stream",
     "text": [
      "  Procesados 1,000 / 8,520 eventos...\n"
     ]
    },
    {
     "name": "stdout",
     "output_type": "stream",
     "text": [
      "  Procesados 1,100 / 8,520 eventos...\n"
     ]
    },
    {
     "name": "stdout",
     "output_type": "stream",
     "text": [
      "  Procesados 1,200 / 8,520 eventos...\n"
     ]
    },
    {
     "name": "stdout",
     "output_type": "stream",
     "text": [
      "  Procesados 1,300 / 8,520 eventos...\n"
     ]
    },
    {
     "name": "stdout",
     "output_type": "stream",
     "text": [
      "  Procesados 1,400 / 8,520 eventos...\n"
     ]
    },
    {
     "name": "stdout",
     "output_type": "stream",
     "text": [
      "  Procesados 1,500 / 8,520 eventos...\n"
     ]
    },
    {
     "name": "stdout",
     "output_type": "stream",
     "text": [
      "  Procesados 1,600 / 8,520 eventos...\n"
     ]
    },
    {
     "name": "stdout",
     "output_type": "stream",
     "text": [
      "  Procesados 1,700 / 8,520 eventos...\n"
     ]
    },
    {
     "name": "stdout",
     "output_type": "stream",
     "text": [
      "  Procesados 1,800 / 8,520 eventos...\n"
     ]
    },
    {
     "name": "stdout",
     "output_type": "stream",
     "text": [
      "  Procesados 1,900 / 8,520 eventos...\n"
     ]
    },
    {
     "name": "stdout",
     "output_type": "stream",
     "text": [
      "  Procesados 2,000 / 8,520 eventos...\n"
     ]
    },
    {
     "name": "stdout",
     "output_type": "stream",
     "text": [
      "  Procesados 2,100 / 8,520 eventos...\n"
     ]
    },
    {
     "name": "stdout",
     "output_type": "stream",
     "text": [
      "  Procesados 2,200 / 8,520 eventos...\n"
     ]
    },
    {
     "name": "stdout",
     "output_type": "stream",
     "text": [
      "  Procesados 2,300 / 8,520 eventos...\n"
     ]
    },
    {
     "name": "stdout",
     "output_type": "stream",
     "text": [
      "  Procesados 2,400 / 8,520 eventos...\n"
     ]
    },
    {
     "name": "stdout",
     "output_type": "stream",
     "text": [
      "  Procesados 2,500 / 8,520 eventos...\n"
     ]
    },
    {
     "name": "stdout",
     "output_type": "stream",
     "text": [
      "  Procesados 2,600 / 8,520 eventos...\n"
     ]
    },
    {
     "name": "stdout",
     "output_type": "stream",
     "text": [
      "  Procesados 2,700 / 8,520 eventos...\n"
     ]
    },
    {
     "name": "stdout",
     "output_type": "stream",
     "text": [
      "  Procesados 2,800 / 8,520 eventos...\n"
     ]
    },
    {
     "name": "stdout",
     "output_type": "stream",
     "text": [
      "  Procesados 2,900 / 8,520 eventos...\n"
     ]
    },
    {
     "name": "stdout",
     "output_type": "stream",
     "text": [
      "  Procesados 3,000 / 8,520 eventos...\n"
     ]
    },
    {
     "name": "stdout",
     "output_type": "stream",
     "text": [
      "  Procesados 3,100 / 8,520 eventos...\n"
     ]
    },
    {
     "name": "stdout",
     "output_type": "stream",
     "text": [
      "  Procesados 3,200 / 8,520 eventos...\n"
     ]
    },
    {
     "name": "stdout",
     "output_type": "stream",
     "text": [
      "  Procesados 3,300 / 8,520 eventos...\n"
     ]
    },
    {
     "name": "stdout",
     "output_type": "stream",
     "text": [
      "  Procesados 3,400 / 8,520 eventos...\n"
     ]
    },
    {
     "name": "stdout",
     "output_type": "stream",
     "text": [
      "  Procesados 3,500 / 8,520 eventos...\n"
     ]
    },
    {
     "name": "stdout",
     "output_type": "stream",
     "text": [
      "  Procesados 3,600 / 8,520 eventos...\n"
     ]
    },
    {
     "name": "stdout",
     "output_type": "stream",
     "text": [
      "  Procesados 3,700 / 8,520 eventos...\n"
     ]
    },
    {
     "name": "stdout",
     "output_type": "stream",
     "text": [
      "  Procesados 3,800 / 8,520 eventos...\n"
     ]
    },
    {
     "name": "stdout",
     "output_type": "stream",
     "text": [
      "  Procesados 3,900 / 8,520 eventos...\n"
     ]
    },
    {
     "name": "stdout",
     "output_type": "stream",
     "text": [
      "  Procesados 4,000 / 8,520 eventos...\n"
     ]
    },
    {
     "name": "stdout",
     "output_type": "stream",
     "text": [
      "  Procesados 4,100 / 8,520 eventos...\n"
     ]
    },
    {
     "name": "stdout",
     "output_type": "stream",
     "text": [
      "  Procesados 4,200 / 8,520 eventos...\n"
     ]
    },
    {
     "name": "stdout",
     "output_type": "stream",
     "text": [
      "  Procesados 4,300 / 8,520 eventos...\n"
     ]
    },
    {
     "name": "stdout",
     "output_type": "stream",
     "text": [
      "  Procesados 4,400 / 8,520 eventos...\n"
     ]
    },
    {
     "name": "stdout",
     "output_type": "stream",
     "text": [
      "  Procesados 4,500 / 8,520 eventos...\n"
     ]
    },
    {
     "name": "stdout",
     "output_type": "stream",
     "text": [
      "  Procesados 4,600 / 8,520 eventos...\n"
     ]
    },
    {
     "name": "stdout",
     "output_type": "stream",
     "text": [
      "  Procesados 4,700 / 8,520 eventos...\n"
     ]
    },
    {
     "name": "stdout",
     "output_type": "stream",
     "text": [
      "  Procesados 4,800 / 8,520 eventos...\n"
     ]
    },
    {
     "name": "stdout",
     "output_type": "stream",
     "text": [
      "  Procesados 4,900 / 8,520 eventos...\n"
     ]
    },
    {
     "name": "stdout",
     "output_type": "stream",
     "text": [
      "  Procesados 5,000 / 8,520 eventos...\n"
     ]
    },
    {
     "name": "stdout",
     "output_type": "stream",
     "text": [
      "  Procesados 5,100 / 8,520 eventos...\n"
     ]
    },
    {
     "name": "stdout",
     "output_type": "stream",
     "text": [
      "  Procesados 5,200 / 8,520 eventos...\n"
     ]
    },
    {
     "name": "stdout",
     "output_type": "stream",
     "text": [
      "  Procesados 5,300 / 8,520 eventos...\n"
     ]
    },
    {
     "name": "stdout",
     "output_type": "stream",
     "text": [
      "  Procesados 5,400 / 8,520 eventos...\n"
     ]
    },
    {
     "name": "stdout",
     "output_type": "stream",
     "text": [
      "  Procesados 5,500 / 8,520 eventos...\n"
     ]
    },
    {
     "name": "stdout",
     "output_type": "stream",
     "text": [
      "  Procesados 5,600 / 8,520 eventos...\n"
     ]
    },
    {
     "name": "stdout",
     "output_type": "stream",
     "text": [
      "  Procesados 5,700 / 8,520 eventos...\n"
     ]
    },
    {
     "name": "stdout",
     "output_type": "stream",
     "text": [
      "  Procesados 5,800 / 8,520 eventos...\n"
     ]
    },
    {
     "name": "stdout",
     "output_type": "stream",
     "text": [
      "  Procesados 5,900 / 8,520 eventos...\n"
     ]
    },
    {
     "name": "stdout",
     "output_type": "stream",
     "text": [
      "  Procesados 6,000 / 8,520 eventos...\n"
     ]
    },
    {
     "name": "stdout",
     "output_type": "stream",
     "text": [
      "  Procesados 6,100 / 8,520 eventos...\n"
     ]
    },
    {
     "name": "stdout",
     "output_type": "stream",
     "text": [
      "  Procesados 6,200 / 8,520 eventos...\n"
     ]
    },
    {
     "name": "stdout",
     "output_type": "stream",
     "text": [
      "  Procesados 6,300 / 8,520 eventos...\n"
     ]
    },
    {
     "name": "stdout",
     "output_type": "stream",
     "text": [
      "  Procesados 6,400 / 8,520 eventos...\n"
     ]
    },
    {
     "name": "stdout",
     "output_type": "stream",
     "text": [
      "  Procesados 6,500 / 8,520 eventos...\n"
     ]
    },
    {
     "name": "stdout",
     "output_type": "stream",
     "text": [
      "  Procesados 6,600 / 8,520 eventos...\n"
     ]
    },
    {
     "name": "stdout",
     "output_type": "stream",
     "text": [
      "  Procesados 6,700 / 8,520 eventos...\n"
     ]
    },
    {
     "name": "stdout",
     "output_type": "stream",
     "text": [
      "  Procesados 6,800 / 8,520 eventos...\n"
     ]
    },
    {
     "name": "stdout",
     "output_type": "stream",
     "text": [
      "  Procesados 6,900 / 8,520 eventos...\n"
     ]
    },
    {
     "name": "stdout",
     "output_type": "stream",
     "text": [
      "  Procesados 7,000 / 8,520 eventos...\n"
     ]
    },
    {
     "name": "stdout",
     "output_type": "stream",
     "text": [
      "  Procesados 7,100 / 8,520 eventos...\n"
     ]
    },
    {
     "name": "stdout",
     "output_type": "stream",
     "text": [
      "  Procesados 7,200 / 8,520 eventos...\n"
     ]
    },
    {
     "name": "stdout",
     "output_type": "stream",
     "text": [
      "  Procesados 7,300 / 8,520 eventos...\n"
     ]
    },
    {
     "name": "stdout",
     "output_type": "stream",
     "text": [
      "  Procesados 7,400 / 8,520 eventos...\n"
     ]
    },
    {
     "name": "stdout",
     "output_type": "stream",
     "text": [
      "  Procesados 7,500 / 8,520 eventos...\n"
     ]
    },
    {
     "name": "stdout",
     "output_type": "stream",
     "text": [
      "  Procesados 7,600 / 8,520 eventos...\n"
     ]
    },
    {
     "name": "stdout",
     "output_type": "stream",
     "text": [
      "  Procesados 7,700 / 8,520 eventos...\n"
     ]
    },
    {
     "name": "stdout",
     "output_type": "stream",
     "text": [
      "  Procesados 7,800 / 8,520 eventos...\n"
     ]
    },
    {
     "name": "stdout",
     "output_type": "stream",
     "text": [
      "  Procesados 7,900 / 8,520 eventos...\n"
     ]
    },
    {
     "name": "stdout",
     "output_type": "stream",
     "text": [
      "  Procesados 8,000 / 8,520 eventos...\n"
     ]
    },
    {
     "name": "stdout",
     "output_type": "stream",
     "text": [
      "  Procesados 8,100 / 8,520 eventos...\n"
     ]
    },
    {
     "name": "stdout",
     "output_type": "stream",
     "text": [
      "  Procesados 8,200 / 8,520 eventos...\n"
     ]
    },
    {
     "name": "stdout",
     "output_type": "stream",
     "text": [
      "  Procesados 8,300 / 8,520 eventos...\n"
     ]
    },
    {
     "name": "stdout",
     "output_type": "stream",
     "text": [
      "  Procesados 8,400 / 8,520 eventos...\n"
     ]
    },
    {
     "name": "stdout",
     "output_type": "stream",
     "text": [
      "  Procesados 8,500 / 8,520 eventos...\n"
     ]
    },
    {
     "name": "stdout",
     "output_type": "stream",
     "text": [
      "✓ Exportado: tradingview_exports\\tradingview_E10_FirstGreenBounce.csv\n",
      "  Total eventos: 8,493\n",
      "  Tickers únicos: 50\n",
      "  Rango fechas: 2004-01-08 a 2025-10-21\n",
      "  Ventana sugerida: [-3,+3]\n",
      "\n",
      "Procesando E11_VolumeBounce: 1,282 ocurrencias\n"
     ]
    },
    {
     "name": "stdout",
     "output_type": "stream",
     "text": [
      "  Procesados 100 / 1,282 eventos...\n"
     ]
    },
    {
     "name": "stdout",
     "output_type": "stream",
     "text": [
      "  Procesados 200 / 1,282 eventos...\n"
     ]
    },
    {
     "name": "stdout",
     "output_type": "stream",
     "text": [
      "  Procesados 300 / 1,282 eventos...\n"
     ]
    },
    {
     "name": "stdout",
     "output_type": "stream",
     "text": [
      "  Procesados 400 / 1,282 eventos...\n"
     ]
    },
    {
     "name": "stdout",
     "output_type": "stream",
     "text": [
      "  Procesados 500 / 1,282 eventos...\n"
     ]
    },
    {
     "name": "stdout",
     "output_type": "stream",
     "text": [
      "  Procesados 600 / 1,282 eventos...\n"
     ]
    },
    {
     "name": "stdout",
     "output_type": "stream",
     "text": [
      "  Procesados 700 / 1,282 eventos...\n"
     ]
    },
    {
     "name": "stdout",
     "output_type": "stream",
     "text": [
      "  Procesados 800 / 1,282 eventos...\n"
     ]
    },
    {
     "name": "stdout",
     "output_type": "stream",
     "text": [
      "  Procesados 900 / 1,282 eventos...\n"
     ]
    },
    {
     "name": "stdout",
     "output_type": "stream",
     "text": [
      "  Procesados 1,000 / 1,282 eventos...\n"
     ]
    },
    {
     "name": "stdout",
     "output_type": "stream",
     "text": [
      "  Procesados 1,100 / 1,282 eventos...\n"
     ]
    },
    {
     "name": "stdout",
     "output_type": "stream",
     "text": [
      "  Procesados 1,200 / 1,282 eventos...\n"
     ]
    },
    {
     "name": "stdout",
     "output_type": "stream",
     "text": [
      "✓ Exportado: tradingview_exports\\tradingview_E11_VolumeBounce.csv\n",
      "  Total eventos: 1,255\n",
      "  Tickers únicos: 50\n",
      "  Rango fechas: 2004-01-30 a 2025-09-10\n",
      "  Ventana sugerida: [-3,+3]\n",
      "\n",
      "Procesando E1_VolExplosion: 7,837 ocurrencias\n"
     ]
    },
    {
     "name": "stdout",
     "output_type": "stream",
     "text": [
      "  Procesados 100 / 7,837 eventos...\n"
     ]
    },
    {
     "name": "stdout",
     "output_type": "stream",
     "text": [
      "  Procesados 200 / 7,837 eventos...\n"
     ]
    },
    {
     "name": "stdout",
     "output_type": "stream",
     "text": [
      "  Procesados 300 / 7,837 eventos...\n"
     ]
    },
    {
     "name": "stdout",
     "output_type": "stream",
     "text": [
      "  Procesados 400 / 7,837 eventos...\n"
     ]
    },
    {
     "name": "stdout",
     "output_type": "stream",
     "text": [
      "  Procesados 500 / 7,837 eventos...\n"
     ]
    },
    {
     "name": "stdout",
     "output_type": "stream",
     "text": [
      "  Procesados 600 / 7,837 eventos...\n"
     ]
    },
    {
     "name": "stdout",
     "output_type": "stream",
     "text": [
      "  Procesados 700 / 7,837 eventos...\n"
     ]
    },
    {
     "name": "stdout",
     "output_type": "stream",
     "text": [
      "  Procesados 800 / 7,837 eventos...\n"
     ]
    },
    {
     "name": "stdout",
     "output_type": "stream",
     "text": [
      "  Procesados 900 / 7,837 eventos...\n"
     ]
    },
    {
     "name": "stdout",
     "output_type": "stream",
     "text": [
      "  Procesados 1,000 / 7,837 eventos...\n"
     ]
    },
    {
     "name": "stdout",
     "output_type": "stream",
     "text": [
      "  Procesados 1,100 / 7,837 eventos...\n"
     ]
    },
    {
     "name": "stdout",
     "output_type": "stream",
     "text": [
      "  Procesados 1,200 / 7,837 eventos...\n"
     ]
    },
    {
     "name": "stdout",
     "output_type": "stream",
     "text": [
      "  Procesados 1,300 / 7,837 eventos...\n"
     ]
    },
    {
     "name": "stdout",
     "output_type": "stream",
     "text": [
      "  Procesados 1,400 / 7,837 eventos...\n"
     ]
    },
    {
     "name": "stdout",
     "output_type": "stream",
     "text": [
      "  Procesados 1,500 / 7,837 eventos...\n"
     ]
    },
    {
     "name": "stdout",
     "output_type": "stream",
     "text": [
      "  Procesados 1,600 / 7,837 eventos...\n"
     ]
    },
    {
     "name": "stdout",
     "output_type": "stream",
     "text": [
      "  Procesados 1,700 / 7,837 eventos...\n"
     ]
    },
    {
     "name": "stdout",
     "output_type": "stream",
     "text": [
      "  Procesados 1,800 / 7,837 eventos...\n"
     ]
    },
    {
     "name": "stdout",
     "output_type": "stream",
     "text": [
      "  Procesados 1,900 / 7,837 eventos...\n"
     ]
    },
    {
     "name": "stdout",
     "output_type": "stream",
     "text": [
      "  Procesados 2,000 / 7,837 eventos...\n"
     ]
    },
    {
     "name": "stdout",
     "output_type": "stream",
     "text": [
      "  Procesados 2,100 / 7,837 eventos...\n"
     ]
    },
    {
     "name": "stdout",
     "output_type": "stream",
     "text": [
      "  Procesados 2,200 / 7,837 eventos...\n"
     ]
    },
    {
     "name": "stdout",
     "output_type": "stream",
     "text": [
      "  Procesados 2,300 / 7,837 eventos...\n"
     ]
    },
    {
     "name": "stdout",
     "output_type": "stream",
     "text": [
      "  Procesados 2,400 / 7,837 eventos...\n"
     ]
    },
    {
     "name": "stdout",
     "output_type": "stream",
     "text": [
      "  Procesados 2,500 / 7,837 eventos...\n"
     ]
    },
    {
     "name": "stdout",
     "output_type": "stream",
     "text": [
      "  Procesados 2,600 / 7,837 eventos...\n"
     ]
    },
    {
     "name": "stdout",
     "output_type": "stream",
     "text": [
      "  Procesados 2,700 / 7,837 eventos...\n"
     ]
    },
    {
     "name": "stdout",
     "output_type": "stream",
     "text": [
      "  Procesados 2,800 / 7,837 eventos...\n"
     ]
    },
    {
     "name": "stdout",
     "output_type": "stream",
     "text": [
      "  Procesados 2,900 / 7,837 eventos...\n"
     ]
    },
    {
     "name": "stdout",
     "output_type": "stream",
     "text": [
      "  Procesados 3,000 / 7,837 eventos...\n"
     ]
    },
    {
     "name": "stdout",
     "output_type": "stream",
     "text": [
      "  Procesados 3,100 / 7,837 eventos...\n"
     ]
    },
    {
     "name": "stdout",
     "output_type": "stream",
     "text": [
      "  Procesados 3,200 / 7,837 eventos...\n"
     ]
    },
    {
     "name": "stdout",
     "output_type": "stream",
     "text": [
      "  Procesados 3,300 / 7,837 eventos...\n"
     ]
    },
    {
     "name": "stdout",
     "output_type": "stream",
     "text": [
      "  Procesados 3,400 / 7,837 eventos...\n"
     ]
    },
    {
     "name": "stdout",
     "output_type": "stream",
     "text": [
      "  Procesados 3,500 / 7,837 eventos...\n"
     ]
    },
    {
     "name": "stdout",
     "output_type": "stream",
     "text": [
      "  Procesados 3,600 / 7,837 eventos...\n"
     ]
    },
    {
     "name": "stdout",
     "output_type": "stream",
     "text": [
      "  Procesados 3,700 / 7,837 eventos...\n"
     ]
    },
    {
     "name": "stdout",
     "output_type": "stream",
     "text": [
      "  Procesados 3,800 / 7,837 eventos...\n"
     ]
    },
    {
     "name": "stdout",
     "output_type": "stream",
     "text": [
      "  Procesados 3,900 / 7,837 eventos...\n"
     ]
    },
    {
     "name": "stdout",
     "output_type": "stream",
     "text": [
      "  Procesados 4,000 / 7,837 eventos...\n"
     ]
    },
    {
     "name": "stdout",
     "output_type": "stream",
     "text": [
      "  Procesados 4,100 / 7,837 eventos...\n"
     ]
    },
    {
     "name": "stdout",
     "output_type": "stream",
     "text": [
      "  Procesados 4,200 / 7,837 eventos...\n"
     ]
    },
    {
     "name": "stdout",
     "output_type": "stream",
     "text": [
      "  Procesados 4,300 / 7,837 eventos...\n"
     ]
    },
    {
     "name": "stdout",
     "output_type": "stream",
     "text": [
      "  Procesados 4,400 / 7,837 eventos...\n"
     ]
    },
    {
     "name": "stdout",
     "output_type": "stream",
     "text": [
      "  Procesados 4,500 / 7,837 eventos...\n"
     ]
    },
    {
     "name": "stdout",
     "output_type": "stream",
     "text": [
      "  Procesados 4,600 / 7,837 eventos...\n"
     ]
    },
    {
     "name": "stdout",
     "output_type": "stream",
     "text": [
      "  Procesados 4,700 / 7,837 eventos...\n"
     ]
    },
    {
     "name": "stdout",
     "output_type": "stream",
     "text": [
      "  Procesados 4,800 / 7,837 eventos...\n"
     ]
    },
    {
     "name": "stdout",
     "output_type": "stream",
     "text": [
      "  Procesados 4,900 / 7,837 eventos...\n"
     ]
    },
    {
     "name": "stdout",
     "output_type": "stream",
     "text": [
      "  Procesados 5,000 / 7,837 eventos...\n"
     ]
    },
    {
     "name": "stdout",
     "output_type": "stream",
     "text": [
      "  Procesados 5,100 / 7,837 eventos...\n"
     ]
    },
    {
     "name": "stdout",
     "output_type": "stream",
     "text": [
      "  Procesados 5,200 / 7,837 eventos...\n"
     ]
    },
    {
     "name": "stdout",
     "output_type": "stream",
     "text": [
      "  Procesados 5,300 / 7,837 eventos...\n"
     ]
    },
    {
     "name": "stdout",
     "output_type": "stream",
     "text": [
      "  Procesados 5,400 / 7,837 eventos...\n"
     ]
    },
    {
     "name": "stdout",
     "output_type": "stream",
     "text": [
      "  Procesados 5,500 / 7,837 eventos...\n"
     ]
    },
    {
     "name": "stdout",
     "output_type": "stream",
     "text": [
      "  Procesados 5,600 / 7,837 eventos...\n"
     ]
    },
    {
     "name": "stdout",
     "output_type": "stream",
     "text": [
      "  Procesados 5,700 / 7,837 eventos...\n"
     ]
    },
    {
     "name": "stdout",
     "output_type": "stream",
     "text": [
      "  Procesados 5,800 / 7,837 eventos...\n"
     ]
    },
    {
     "name": "stdout",
     "output_type": "stream",
     "text": [
      "  Procesados 5,900 / 7,837 eventos...\n"
     ]
    },
    {
     "name": "stdout",
     "output_type": "stream",
     "text": [
      "  Procesados 6,000 / 7,837 eventos...\n"
     ]
    },
    {
     "name": "stdout",
     "output_type": "stream",
     "text": [
      "  Procesados 6,100 / 7,837 eventos...\n"
     ]
    },
    {
     "name": "stdout",
     "output_type": "stream",
     "text": [
      "  Procesados 6,200 / 7,837 eventos...\n"
     ]
    },
    {
     "name": "stdout",
     "output_type": "stream",
     "text": [
      "  Procesados 6,300 / 7,837 eventos...\n"
     ]
    },
    {
     "name": "stdout",
     "output_type": "stream",
     "text": [
      "  Procesados 6,400 / 7,837 eventos...\n"
     ]
    },
    {
     "name": "stdout",
     "output_type": "stream",
     "text": [
      "  Procesados 6,500 / 7,837 eventos...\n"
     ]
    },
    {
     "name": "stdout",
     "output_type": "stream",
     "text": [
      "  Procesados 6,600 / 7,837 eventos...\n"
     ]
    },
    {
     "name": "stdout",
     "output_type": "stream",
     "text": [
      "  Procesados 6,700 / 7,837 eventos...\n"
     ]
    },
    {
     "name": "stdout",
     "output_type": "stream",
     "text": [
      "  Procesados 6,800 / 7,837 eventos...\n"
     ]
    },
    {
     "name": "stdout",
     "output_type": "stream",
     "text": [
      "  Procesados 6,900 / 7,837 eventos...\n"
     ]
    },
    {
     "name": "stdout",
     "output_type": "stream",
     "text": [
      "  Procesados 7,000 / 7,837 eventos...\n"
     ]
    },
    {
     "name": "stdout",
     "output_type": "stream",
     "text": [
      "  Procesados 7,100 / 7,837 eventos...\n"
     ]
    },
    {
     "name": "stdout",
     "output_type": "stream",
     "text": [
      "  Procesados 7,200 / 7,837 eventos...\n"
     ]
    },
    {
     "name": "stdout",
     "output_type": "stream",
     "text": [
      "  Procesados 7,300 / 7,837 eventos...\n"
     ]
    },
    {
     "name": "stdout",
     "output_type": "stream",
     "text": [
      "  Procesados 7,400 / 7,837 eventos...\n"
     ]
    },
    {
     "name": "stdout",
     "output_type": "stream",
     "text": [
      "  Procesados 7,600 / 7,837 eventos...\n"
     ]
    },
    {
     "name": "stdout",
     "output_type": "stream",
     "text": [
      "  Procesados 7,700 / 7,837 eventos...\n"
     ]
    },
    {
     "name": "stdout",
     "output_type": "stream",
     "text": [
      "  Procesados 7,800 / 7,837 eventos...\n"
     ]
    },
    {
     "name": "stdout",
     "output_type": "stream",
     "text": [
      "✓ Exportado: tradingview_exports\\tradingview_E1_VolExplosion.csv\n",
      "  Total eventos: 7,685\n",
      "  Tickers únicos: 50\n",
      "  Rango fechas: 2004-01-30 a 2025-10-14\n",
      "  Ventana sugerida: [-3,+3]\n",
      "\n",
      "Procesando E2_GapUp: 1,085 ocurrencias\n"
     ]
    },
    {
     "name": "stdout",
     "output_type": "stream",
     "text": [
      "  Procesados 100 / 1,085 eventos...\n"
     ]
    },
    {
     "name": "stdout",
     "output_type": "stream",
     "text": [
      "  Procesados 200 / 1,085 eventos...\n"
     ]
    },
    {
     "name": "stdout",
     "output_type": "stream",
     "text": [
      "  Procesados 300 / 1,085 eventos...\n"
     ]
    },
    {
     "name": "stdout",
     "output_type": "stream",
     "text": [
      "  Procesados 400 / 1,085 eventos...\n"
     ]
    },
    {
     "name": "stdout",
     "output_type": "stream",
     "text": [
      "  Procesados 500 / 1,085 eventos...\n"
     ]
    },
    {
     "name": "stdout",
     "output_type": "stream",
     "text": [
      "  Procesados 600 / 1,085 eventos...\n"
     ]
    },
    {
     "name": "stdout",
     "output_type": "stream",
     "text": [
      "  Procesados 700 / 1,085 eventos...\n"
     ]
    },
    {
     "name": "stdout",
     "output_type": "stream",
     "text": [
      "  Procesados 800 / 1,085 eventos...\n"
     ]
    },
    {
     "name": "stdout",
     "output_type": "stream",
     "text": [
      "  Procesados 900 / 1,085 eventos...\n"
     ]
    },
    {
     "name": "stdout",
     "output_type": "stream",
     "text": [
      "  Procesados 1,000 / 1,085 eventos...\n"
     ]
    },
    {
     "name": "stdout",
     "output_type": "stream",
     "text": [
      "✓ Exportado: tradingview_exports\\tradingview_E2_GapUp.csv\n",
      "  Total eventos: 1,069\n",
      "  Tickers únicos: 50\n",
      "  Rango fechas: 2004-01-12 a 2025-10-23\n",
      "  Ventana sugerida: N/A\n",
      "\n",
      "Procesando E3_PriceSpikeIntraday: 2,074 ocurrencias\n"
     ]
    },
    {
     "name": "stdout",
     "output_type": "stream",
     "text": [
      "  Procesados 100 / 2,074 eventos...\n"
     ]
    },
    {
     "name": "stdout",
     "output_type": "stream",
     "text": [
      "  Procesados 200 / 2,074 eventos...\n"
     ]
    },
    {
     "name": "stdout",
     "output_type": "stream",
     "text": [
      "  Procesados 300 / 2,074 eventos...\n"
     ]
    },
    {
     "name": "stdout",
     "output_type": "stream",
     "text": [
      "  Procesados 400 / 2,074 eventos...\n"
     ]
    },
    {
     "name": "stdout",
     "output_type": "stream",
     "text": [
      "  Procesados 500 / 2,074 eventos...\n"
     ]
    },
    {
     "name": "stdout",
     "output_type": "stream",
     "text": [
      "  Procesados 600 / 2,074 eventos...\n"
     ]
    },
    {
     "name": "stdout",
     "output_type": "stream",
     "text": [
      "  Procesados 700 / 2,074 eventos...\n"
     ]
    },
    {
     "name": "stdout",
     "output_type": "stream",
     "text": [
      "  Procesados 800 / 2,074 eventos...\n"
     ]
    },
    {
     "name": "stdout",
     "output_type": "stream",
     "text": [
      "  Procesados 900 / 2,074 eventos...\n"
     ]
    },
    {
     "name": "stdout",
     "output_type": "stream",
     "text": [
      "  Procesados 1,100 / 2,074 eventos...\n"
     ]
    },
    {
     "name": "stdout",
     "output_type": "stream",
     "text": [
      "  Procesados 1,200 / 2,074 eventos...\n"
     ]
    },
    {
     "name": "stdout",
     "output_type": "stream",
     "text": [
      "  Procesados 1,300 / 2,074 eventos...\n"
     ]
    },
    {
     "name": "stdout",
     "output_type": "stream",
     "text": [
      "  Procesados 1,400 / 2,074 eventos...\n"
     ]
    },
    {
     "name": "stdout",
     "output_type": "stream",
     "text": [
      "  Procesados 1,500 / 2,074 eventos...\n"
     ]
    },
    {
     "name": "stdout",
     "output_type": "stream",
     "text": [
      "  Procesados 1,600 / 2,074 eventos...\n"
     ]
    },
    {
     "name": "stdout",
     "output_type": "stream",
     "text": [
      "  Procesados 1,700 / 2,074 eventos...\n"
     ]
    },
    {
     "name": "stdout",
     "output_type": "stream",
     "text": [
      "  Procesados 1,800 / 2,074 eventos...\n"
     ]
    },
    {
     "name": "stdout",
     "output_type": "stream",
     "text": [
      "  Procesados 1,900 / 2,074 eventos...\n"
     ]
    },
    {
     "name": "stdout",
     "output_type": "stream",
     "text": [
      "  Procesados 2,000 / 2,074 eventos...\n"
     ]
    },
    {
     "name": "stdout",
     "output_type": "stream",
     "text": [
      "✓ Exportado: tradingview_exports\\tradingview_E3_PriceSpikeIntraday.csv\n",
      "  Total eventos: 1,900\n",
      "  Tickers únicos: 50\n",
      "  Rango fechas: 2004-01-07 a 2025-10-24\n",
      "  Ventana sugerida: N/A\n",
      "\n",
      "Procesando E4_Parabolic: 1,371 ocurrencias\n"
     ]
    },
    {
     "name": "stdout",
     "output_type": "stream",
     "text": [
      "  Procesados 100 / 1,371 eventos...\n"
     ]
    },
    {
     "name": "stdout",
     "output_type": "stream",
     "text": [
      "  Procesados 200 / 1,371 eventos...\n"
     ]
    },
    {
     "name": "stdout",
     "output_type": "stream",
     "text": [
      "  Procesados 300 / 1,371 eventos...\n"
     ]
    },
    {
     "name": "stdout",
     "output_type": "stream",
     "text": [
      "  Procesados 400 / 1,371 eventos...\n"
     ]
    },
    {
     "name": "stdout",
     "output_type": "stream",
     "text": [
      "  Procesados 500 / 1,371 eventos...\n"
     ]
    },
    {
     "name": "stdout",
     "output_type": "stream",
     "text": [
      "  Procesados 700 / 1,371 eventos...\n"
     ]
    },
    {
     "name": "stdout",
     "output_type": "stream",
     "text": [
      "  Procesados 800 / 1,371 eventos...\n"
     ]
    },
    {
     "name": "stdout",
     "output_type": "stream",
     "text": [
      "  Procesados 1,000 / 1,371 eventos...\n"
     ]
    },
    {
     "name": "stdout",
     "output_type": "stream",
     "text": [
      "  Procesados 1,100 / 1,371 eventos...\n"
     ]
    },
    {
     "name": "stdout",
     "output_type": "stream",
     "text": [
      "  Procesados 1,200 / 1,371 eventos...\n"
     ]
    },
    {
     "name": "stdout",
     "output_type": "stream",
     "text": [
      "  Procesados 1,300 / 1,371 eventos...\n"
     ]
    },
    {
     "name": "stdout",
     "output_type": "stream",
     "text": [
      "✓ Exportado: tradingview_exports\\tradingview_E4_Parabolic.csv\n",
      "  Total eventos: 1,264\n",
      "  Tickers únicos: 49\n",
      "  Rango fechas: 2004-01-09 a 2025-10-23\n",
      "  Ventana sugerida: N/A\n",
      "\n",
      "Procesando E5_BreakoutATH: 4,648 ocurrencias\n"
     ]
    },
    {
     "name": "stdout",
     "output_type": "stream",
     "text": [
      "  Procesados 100 / 4,648 eventos...\n"
     ]
    },
    {
     "name": "stdout",
     "output_type": "stream",
     "text": [
      "  Procesados 200 / 4,648 eventos...\n"
     ]
    },
    {
     "name": "stdout",
     "output_type": "stream",
     "text": [
      "  Procesados 300 / 4,648 eventos...\n"
     ]
    },
    {
     "name": "stdout",
     "output_type": "stream",
     "text": [
      "  Procesados 400 / 4,648 eventos...\n"
     ]
    },
    {
     "name": "stdout",
     "output_type": "stream",
     "text": [
      "  Procesados 500 / 4,648 eventos...\n"
     ]
    },
    {
     "name": "stdout",
     "output_type": "stream",
     "text": [
      "  Procesados 600 / 4,648 eventos...\n"
     ]
    },
    {
     "name": "stdout",
     "output_type": "stream",
     "text": [
      "  Procesados 700 / 4,648 eventos...\n"
     ]
    },
    {
     "name": "stdout",
     "output_type": "stream",
     "text": [
      "  Procesados 800 / 4,648 eventos...\n"
     ]
    },
    {
     "name": "stdout",
     "output_type": "stream",
     "text": [
      "  Procesados 900 / 4,648 eventos...\n"
     ]
    },
    {
     "name": "stdout",
     "output_type": "stream",
     "text": [
      "  Procesados 1,000 / 4,648 eventos...\n"
     ]
    },
    {
     "name": "stdout",
     "output_type": "stream",
     "text": [
      "  Procesados 1,100 / 4,648 eventos...\n"
     ]
    },
    {
     "name": "stdout",
     "output_type": "stream",
     "text": [
      "  Procesados 1,200 / 4,648 eventos...\n"
     ]
    },
    {
     "name": "stdout",
     "output_type": "stream",
     "text": [
      "  Procesados 1,300 / 4,648 eventos...\n"
     ]
    },
    {
     "name": "stdout",
     "output_type": "stream",
     "text": [
      "  Procesados 1,400 / 4,648 eventos...\n"
     ]
    },
    {
     "name": "stdout",
     "output_type": "stream",
     "text": [
      "  Procesados 1,500 / 4,648 eventos...\n"
     ]
    },
    {
     "name": "stdout",
     "output_type": "stream",
     "text": [
      "  Procesados 1,600 / 4,648 eventos...\n"
     ]
    },
    {
     "name": "stdout",
     "output_type": "stream",
     "text": [
      "  Procesados 1,700 / 4,648 eventos...\n"
     ]
    },
    {
     "name": "stdout",
     "output_type": "stream",
     "text": [
      "  Procesados 1,800 / 4,648 eventos...\n"
     ]
    },
    {
     "name": "stdout",
     "output_type": "stream",
     "text": [
      "  Procesados 1,900 / 4,648 eventos...\n"
     ]
    },
    {
     "name": "stdout",
     "output_type": "stream",
     "text": [
      "  Procesados 2,000 / 4,648 eventos...\n"
     ]
    },
    {
     "name": "stdout",
     "output_type": "stream",
     "text": [
      "  Procesados 2,100 / 4,648 eventos...\n"
     ]
    },
    {
     "name": "stdout",
     "output_type": "stream",
     "text": [
      "  Procesados 2,200 / 4,648 eventos...\n"
     ]
    },
    {
     "name": "stdout",
     "output_type": "stream",
     "text": [
      "  Procesados 2,300 / 4,648 eventos...\n"
     ]
    },
    {
     "name": "stdout",
     "output_type": "stream",
     "text": [
      "  Procesados 2,400 / 4,648 eventos...\n"
     ]
    },
    {
     "name": "stdout",
     "output_type": "stream",
     "text": [
      "  Procesados 2,500 / 4,648 eventos...\n"
     ]
    },
    {
     "name": "stdout",
     "output_type": "stream",
     "text": [
      "  Procesados 2,600 / 4,648 eventos...\n"
     ]
    },
    {
     "name": "stdout",
     "output_type": "stream",
     "text": [
      "  Procesados 2,700 / 4,648 eventos...\n"
     ]
    },
    {
     "name": "stdout",
     "output_type": "stream",
     "text": [
      "  Procesados 2,800 / 4,648 eventos...\n"
     ]
    },
    {
     "name": "stdout",
     "output_type": "stream",
     "text": [
      "  Procesados 2,900 / 4,648 eventos...\n"
     ]
    },
    {
     "name": "stdout",
     "output_type": "stream",
     "text": [
      "  Procesados 3,000 / 4,648 eventos...\n"
     ]
    },
    {
     "name": "stdout",
     "output_type": "stream",
     "text": [
      "  Procesados 3,100 / 4,648 eventos...\n"
     ]
    },
    {
     "name": "stdout",
     "output_type": "stream",
     "text": [
      "  Procesados 3,200 / 4,648 eventos...\n"
     ]
    },
    {
     "name": "stdout",
     "output_type": "stream",
     "text": [
      "  Procesados 3,300 / 4,648 eventos...\n"
     ]
    },
    {
     "name": "stdout",
     "output_type": "stream",
     "text": [
      "  Procesados 3,400 / 4,648 eventos...\n"
     ]
    },
    {
     "name": "stdout",
     "output_type": "stream",
     "text": [
      "  Procesados 3,500 / 4,648 eventos...\n"
     ]
    },
    {
     "name": "stdout",
     "output_type": "stream",
     "text": [
      "  Procesados 3,700 / 4,648 eventos...\n"
     ]
    },
    {
     "name": "stdout",
     "output_type": "stream",
     "text": [
      "  Procesados 3,800 / 4,648 eventos...\n"
     ]
    },
    {
     "name": "stdout",
     "output_type": "stream",
     "text": [
      "  Procesados 3,900 / 4,648 eventos...\n"
     ]
    },
    {
     "name": "stdout",
     "output_type": "stream",
     "text": [
      "  Procesados 4,000 / 4,648 eventos...\n"
     ]
    },
    {
     "name": "stdout",
     "output_type": "stream",
     "text": [
      "  Procesados 4,100 / 4,648 eventos...\n"
     ]
    },
    {
     "name": "stdout",
     "output_type": "stream",
     "text": [
      "  Procesados 4,200 / 4,648 eventos...\n"
     ]
    },
    {
     "name": "stdout",
     "output_type": "stream",
     "text": [
      "  Procesados 4,300 / 4,648 eventos...\n"
     ]
    },
    {
     "name": "stdout",
     "output_type": "stream",
     "text": [
      "  Procesados 4,400 / 4,648 eventos...\n"
     ]
    },
    {
     "name": "stdout",
     "output_type": "stream",
     "text": [
      "  Procesados 4,500 / 4,648 eventos...\n"
     ]
    },
    {
     "name": "stdout",
     "output_type": "stream",
     "text": [
      "  Procesados 4,600 / 4,648 eventos...\n"
     ]
    },
    {
     "name": "stdout",
     "output_type": "stream",
     "text": [
      "✓ Exportado: tradingview_exports\\tradingview_E5_BreakoutATH.csv\n",
      "  Total eventos: 4,632\n",
      "  Tickers únicos: 50\n",
      "  Rango fechas: 2004-01-02 a 2025-10-21\n",
      "  Ventana sugerida: N/A\n",
      "\n",
      "Procesando E6_MultipleGreenDays: 16,817 ocurrencias\n"
     ]
    },
    {
     "name": "stdout",
     "output_type": "stream",
     "text": [
      "  Procesados 100 / 16,817 eventos...\n"
     ]
    },
    {
     "name": "stdout",
     "output_type": "stream",
     "text": [
      "  Procesados 200 / 16,817 eventos...\n"
     ]
    },
    {
     "name": "stdout",
     "output_type": "stream",
     "text": [
      "  Procesados 300 / 16,817 eventos...\n"
     ]
    },
    {
     "name": "stdout",
     "output_type": "stream",
     "text": [
      "  Procesados 400 / 16,817 eventos...\n"
     ]
    },
    {
     "name": "stdout",
     "output_type": "stream",
     "text": [
      "  Procesados 500 / 16,817 eventos...\n"
     ]
    },
    {
     "name": "stdout",
     "output_type": "stream",
     "text": [
      "  Procesados 600 / 16,817 eventos...\n"
     ]
    },
    {
     "name": "stdout",
     "output_type": "stream",
     "text": [
      "  Procesados 700 / 16,817 eventos...\n"
     ]
    },
    {
     "name": "stdout",
     "output_type": "stream",
     "text": [
      "  Procesados 800 / 16,817 eventos...\n"
     ]
    },
    {
     "name": "stdout",
     "output_type": "stream",
     "text": [
      "  Procesados 900 / 16,817 eventos...\n"
     ]
    },
    {
     "name": "stdout",
     "output_type": "stream",
     "text": [
      "  Procesados 1,000 / 16,817 eventos...\n"
     ]
    },
    {
     "name": "stdout",
     "output_type": "stream",
     "text": [
      "  Procesados 1,100 / 16,817 eventos...\n"
     ]
    },
    {
     "name": "stdout",
     "output_type": "stream",
     "text": [
      "  Procesados 1,200 / 16,817 eventos...\n"
     ]
    },
    {
     "name": "stdout",
     "output_type": "stream",
     "text": [
      "  Procesados 1,300 / 16,817 eventos...\n"
     ]
    },
    {
     "name": "stdout",
     "output_type": "stream",
     "text": [
      "  Procesados 1,400 / 16,817 eventos...\n"
     ]
    },
    {
     "name": "stdout",
     "output_type": "stream",
     "text": [
      "  Procesados 1,500 / 16,817 eventos...\n"
     ]
    },
    {
     "name": "stdout",
     "output_type": "stream",
     "text": [
      "  Procesados 1,600 / 16,817 eventos...\n"
     ]
    },
    {
     "name": "stdout",
     "output_type": "stream",
     "text": [
      "  Procesados 1,700 / 16,817 eventos...\n"
     ]
    },
    {
     "name": "stdout",
     "output_type": "stream",
     "text": [
      "  Procesados 1,800 / 16,817 eventos...\n"
     ]
    },
    {
     "name": "stdout",
     "output_type": "stream",
     "text": [
      "  Procesados 1,900 / 16,817 eventos...\n"
     ]
    },
    {
     "name": "stdout",
     "output_type": "stream",
     "text": [
      "  Procesados 2,000 / 16,817 eventos...\n"
     ]
    },
    {
     "name": "stdout",
     "output_type": "stream",
     "text": [
      "  Procesados 2,100 / 16,817 eventos...\n"
     ]
    },
    {
     "name": "stdout",
     "output_type": "stream",
     "text": [
      "  Procesados 2,200 / 16,817 eventos...\n"
     ]
    },
    {
     "name": "stdout",
     "output_type": "stream",
     "text": [
      "  Procesados 2,300 / 16,817 eventos...\n"
     ]
    },
    {
     "name": "stdout",
     "output_type": "stream",
     "text": [
      "  Procesados 2,400 / 16,817 eventos...\n"
     ]
    },
    {
     "name": "stdout",
     "output_type": "stream",
     "text": [
      "  Procesados 2,500 / 16,817 eventos...\n"
     ]
    },
    {
     "name": "stdout",
     "output_type": "stream",
     "text": [
      "  Procesados 2,600 / 16,817 eventos...\n"
     ]
    },
    {
     "name": "stdout",
     "output_type": "stream",
     "text": [
      "  Procesados 2,700 / 16,817 eventos...\n"
     ]
    },
    {
     "name": "stdout",
     "output_type": "stream",
     "text": [
      "  Procesados 2,800 / 16,817 eventos...\n"
     ]
    },
    {
     "name": "stdout",
     "output_type": "stream",
     "text": [
      "  Procesados 2,900 / 16,817 eventos...\n"
     ]
    },
    {
     "name": "stdout",
     "output_type": "stream",
     "text": [
      "  Procesados 3,000 / 16,817 eventos...\n"
     ]
    },
    {
     "name": "stdout",
     "output_type": "stream",
     "text": [
      "  Procesados 3,100 / 16,817 eventos...\n"
     ]
    },
    {
     "name": "stdout",
     "output_type": "stream",
     "text": [
      "  Procesados 3,200 / 16,817 eventos...\n"
     ]
    },
    {
     "name": "stdout",
     "output_type": "stream",
     "text": [
      "  Procesados 3,300 / 16,817 eventos...\n"
     ]
    },
    {
     "name": "stdout",
     "output_type": "stream",
     "text": [
      "  Procesados 3,400 / 16,817 eventos...\n"
     ]
    },
    {
     "name": "stdout",
     "output_type": "stream",
     "text": [
      "  Procesados 3,500 / 16,817 eventos...\n"
     ]
    },
    {
     "name": "stdout",
     "output_type": "stream",
     "text": [
      "  Procesados 3,600 / 16,817 eventos...\n"
     ]
    },
    {
     "name": "stdout",
     "output_type": "stream",
     "text": [
      "  Procesados 3,700 / 16,817 eventos...\n"
     ]
    },
    {
     "name": "stdout",
     "output_type": "stream",
     "text": [
      "  Procesados 3,800 / 16,817 eventos...\n"
     ]
    },
    {
     "name": "stdout",
     "output_type": "stream",
     "text": [
      "  Procesados 3,900 / 16,817 eventos...\n"
     ]
    },
    {
     "name": "stdout",
     "output_type": "stream",
     "text": [
      "  Procesados 4,000 / 16,817 eventos...\n"
     ]
    },
    {
     "name": "stdout",
     "output_type": "stream",
     "text": [
      "  Procesados 4,100 / 16,817 eventos...\n"
     ]
    },
    {
     "name": "stdout",
     "output_type": "stream",
     "text": [
      "  Procesados 4,200 / 16,817 eventos...\n"
     ]
    },
    {
     "name": "stdout",
     "output_type": "stream",
     "text": [
      "  Procesados 4,300 / 16,817 eventos...\n"
     ]
    },
    {
     "name": "stdout",
     "output_type": "stream",
     "text": [
      "  Procesados 4,400 / 16,817 eventos...\n"
     ]
    },
    {
     "name": "stdout",
     "output_type": "stream",
     "text": [
      "  Procesados 4,500 / 16,817 eventos...\n"
     ]
    },
    {
     "name": "stdout",
     "output_type": "stream",
     "text": [
      "  Procesados 4,600 / 16,817 eventos...\n"
     ]
    },
    {
     "name": "stdout",
     "output_type": "stream",
     "text": [
      "  Procesados 4,700 / 16,817 eventos...\n"
     ]
    },
    {
     "name": "stdout",
     "output_type": "stream",
     "text": [
      "  Procesados 4,800 / 16,817 eventos...\n"
     ]
    },
    {
     "name": "stdout",
     "output_type": "stream",
     "text": [
      "  Procesados 4,900 / 16,817 eventos...\n"
     ]
    },
    {
     "name": "stdout",
     "output_type": "stream",
     "text": [
      "  Procesados 5,000 / 16,817 eventos...\n"
     ]
    },
    {
     "name": "stdout",
     "output_type": "stream",
     "text": [
      "  Procesados 5,100 / 16,817 eventos...\n"
     ]
    },
    {
     "name": "stdout",
     "output_type": "stream",
     "text": [
      "  Procesados 5,200 / 16,817 eventos...\n"
     ]
    },
    {
     "name": "stdout",
     "output_type": "stream",
     "text": [
      "  Procesados 5,300 / 16,817 eventos...\n"
     ]
    },
    {
     "name": "stdout",
     "output_type": "stream",
     "text": [
      "  Procesados 5,400 / 16,817 eventos...\n"
     ]
    },
    {
     "name": "stdout",
     "output_type": "stream",
     "text": [
      "  Procesados 5,500 / 16,817 eventos...\n"
     ]
    },
    {
     "name": "stdout",
     "output_type": "stream",
     "text": [
      "  Procesados 5,600 / 16,817 eventos...\n"
     ]
    },
    {
     "name": "stdout",
     "output_type": "stream",
     "text": [
      "  Procesados 5,700 / 16,817 eventos...\n"
     ]
    },
    {
     "name": "stdout",
     "output_type": "stream",
     "text": [
      "  Procesados 5,800 / 16,817 eventos...\n"
     ]
    },
    {
     "name": "stdout",
     "output_type": "stream",
     "text": [
      "  Procesados 5,900 / 16,817 eventos...\n"
     ]
    },
    {
     "name": "stdout",
     "output_type": "stream",
     "text": [
      "  Procesados 6,000 / 16,817 eventos...\n"
     ]
    },
    {
     "name": "stdout",
     "output_type": "stream",
     "text": [
      "  Procesados 6,100 / 16,817 eventos...\n"
     ]
    },
    {
     "name": "stdout",
     "output_type": "stream",
     "text": [
      "  Procesados 6,200 / 16,817 eventos...\n"
     ]
    },
    {
     "name": "stdout",
     "output_type": "stream",
     "text": [
      "  Procesados 6,300 / 16,817 eventos...\n"
     ]
    },
    {
     "name": "stdout",
     "output_type": "stream",
     "text": [
      "  Procesados 6,400 / 16,817 eventos...\n"
     ]
    },
    {
     "name": "stdout",
     "output_type": "stream",
     "text": [
      "  Procesados 6,500 / 16,817 eventos...\n"
     ]
    },
    {
     "name": "stdout",
     "output_type": "stream",
     "text": [
      "  Procesados 6,600 / 16,817 eventos...\n"
     ]
    },
    {
     "name": "stdout",
     "output_type": "stream",
     "text": [
      "  Procesados 6,700 / 16,817 eventos...\n"
     ]
    },
    {
     "name": "stdout",
     "output_type": "stream",
     "text": [
      "  Procesados 6,800 / 16,817 eventos...\n"
     ]
    },
    {
     "name": "stdout",
     "output_type": "stream",
     "text": [
      "  Procesados 6,900 / 16,817 eventos...\n"
     ]
    },
    {
     "name": "stdout",
     "output_type": "stream",
     "text": [
      "  Procesados 7,000 / 16,817 eventos...\n"
     ]
    },
    {
     "name": "stdout",
     "output_type": "stream",
     "text": [
      "  Procesados 7,100 / 16,817 eventos...\n"
     ]
    },
    {
     "name": "stdout",
     "output_type": "stream",
     "text": [
      "  Procesados 7,200 / 16,817 eventos...\n"
     ]
    },
    {
     "name": "stdout",
     "output_type": "stream",
     "text": [
      "  Procesados 7,300 / 16,817 eventos...\n"
     ]
    },
    {
     "name": "stdout",
     "output_type": "stream",
     "text": [
      "  Procesados 7,400 / 16,817 eventos...\n"
     ]
    },
    {
     "name": "stdout",
     "output_type": "stream",
     "text": [
      "  Procesados 7,500 / 16,817 eventos...\n"
     ]
    },
    {
     "name": "stdout",
     "output_type": "stream",
     "text": [
      "  Procesados 7,600 / 16,817 eventos...\n"
     ]
    },
    {
     "name": "stdout",
     "output_type": "stream",
     "text": [
      "  Procesados 7,700 / 16,817 eventos...\n"
     ]
    },
    {
     "name": "stdout",
     "output_type": "stream",
     "text": [
      "  Procesados 7,800 / 16,817 eventos...\n"
     ]
    },
    {
     "name": "stdout",
     "output_type": "stream",
     "text": [
      "  Procesados 7,900 / 16,817 eventos...\n"
     ]
    },
    {
     "name": "stdout",
     "output_type": "stream",
     "text": [
      "  Procesados 8,000 / 16,817 eventos...\n"
     ]
    },
    {
     "name": "stdout",
     "output_type": "stream",
     "text": [
      "  Procesados 8,100 / 16,817 eventos...\n"
     ]
    },
    {
     "name": "stdout",
     "output_type": "stream",
     "text": [
      "  Procesados 8,200 / 16,817 eventos...\n"
     ]
    },
    {
     "name": "stdout",
     "output_type": "stream",
     "text": [
      "  Procesados 8,400 / 16,817 eventos...\n"
     ]
    },
    {
     "name": "stdout",
     "output_type": "stream",
     "text": [
      "  Procesados 8,500 / 16,817 eventos...\n"
     ]
    },
    {
     "name": "stdout",
     "output_type": "stream",
     "text": [
      "  Procesados 8,600 / 16,817 eventos...\n"
     ]
    },
    {
     "name": "stdout",
     "output_type": "stream",
     "text": [
      "  Procesados 8,700 / 16,817 eventos...\n"
     ]
    },
    {
     "name": "stdout",
     "output_type": "stream",
     "text": [
      "  Procesados 8,800 / 16,817 eventos...\n"
     ]
    },
    {
     "name": "stdout",
     "output_type": "stream",
     "text": [
      "  Procesados 8,900 / 16,817 eventos...\n"
     ]
    },
    {
     "name": "stdout",
     "output_type": "stream",
     "text": [
      "  Procesados 9,000 / 16,817 eventos...\n"
     ]
    },
    {
     "name": "stdout",
     "output_type": "stream",
     "text": [
      "  Procesados 9,100 / 16,817 eventos...\n"
     ]
    },
    {
     "name": "stdout",
     "output_type": "stream",
     "text": [
      "  Procesados 9,200 / 16,817 eventos...\n"
     ]
    },
    {
     "name": "stdout",
     "output_type": "stream",
     "text": [
      "  Procesados 9,300 / 16,817 eventos...\n"
     ]
    },
    {
     "name": "stdout",
     "output_type": "stream",
     "text": [
      "  Procesados 9,400 / 16,817 eventos...\n"
     ]
    },
    {
     "name": "stdout",
     "output_type": "stream",
     "text": [
      "  Procesados 9,500 / 16,817 eventos...\n"
     ]
    },
    {
     "name": "stdout",
     "output_type": "stream",
     "text": [
      "  Procesados 9,600 / 16,817 eventos...\n"
     ]
    },
    {
     "name": "stdout",
     "output_type": "stream",
     "text": [
      "  Procesados 9,700 / 16,817 eventos...\n"
     ]
    },
    {
     "name": "stdout",
     "output_type": "stream",
     "text": [
      "  Procesados 9,800 / 16,817 eventos...\n"
     ]
    },
    {
     "name": "stdout",
     "output_type": "stream",
     "text": [
      "  Procesados 9,900 / 16,817 eventos...\n"
     ]
    },
    {
     "name": "stdout",
     "output_type": "stream",
     "text": [
      "  Procesados 10,000 / 16,817 eventos...\n"
     ]
    },
    {
     "name": "stdout",
     "output_type": "stream",
     "text": [
      "  Procesados 10,100 / 16,817 eventos...\n"
     ]
    },
    {
     "name": "stdout",
     "output_type": "stream",
     "text": [
      "  Procesados 10,200 / 16,817 eventos...\n"
     ]
    },
    {
     "name": "stdout",
     "output_type": "stream",
     "text": [
      "  Procesados 10,300 / 16,817 eventos...\n"
     ]
    },
    {
     "name": "stdout",
     "output_type": "stream",
     "text": [
      "  Procesados 10,400 / 16,817 eventos...\n"
     ]
    },
    {
     "name": "stdout",
     "output_type": "stream",
     "text": [
      "  Procesados 10,500 / 16,817 eventos...\n"
     ]
    },
    {
     "name": "stdout",
     "output_type": "stream",
     "text": [
      "  Procesados 10,600 / 16,817 eventos...\n"
     ]
    },
    {
     "name": "stdout",
     "output_type": "stream",
     "text": [
      "  Procesados 10,700 / 16,817 eventos...\n"
     ]
    },
    {
     "name": "stdout",
     "output_type": "stream",
     "text": [
      "  Procesados 10,800 / 16,817 eventos...\n"
     ]
    },
    {
     "name": "stdout",
     "output_type": "stream",
     "text": [
      "  Procesados 10,900 / 16,817 eventos...\n"
     ]
    },
    {
     "name": "stdout",
     "output_type": "stream",
     "text": [
      "  Procesados 11,000 / 16,817 eventos...\n"
     ]
    },
    {
     "name": "stdout",
     "output_type": "stream",
     "text": [
      "  Procesados 11,100 / 16,817 eventos...\n"
     ]
    },
    {
     "name": "stdout",
     "output_type": "stream",
     "text": [
      "  Procesados 11,200 / 16,817 eventos...\n"
     ]
    },
    {
     "name": "stdout",
     "output_type": "stream",
     "text": [
      "  Procesados 11,300 / 16,817 eventos...\n"
     ]
    },
    {
     "name": "stdout",
     "output_type": "stream",
     "text": [
      "  Procesados 11,400 / 16,817 eventos...\n"
     ]
    },
    {
     "name": "stdout",
     "output_type": "stream",
     "text": [
      "  Procesados 11,500 / 16,817 eventos...\n"
     ]
    },
    {
     "name": "stdout",
     "output_type": "stream",
     "text": [
      "  Procesados 11,600 / 16,817 eventos...\n"
     ]
    },
    {
     "name": "stdout",
     "output_type": "stream",
     "text": [
      "  Procesados 11,700 / 16,817 eventos...\n"
     ]
    },
    {
     "name": "stdout",
     "output_type": "stream",
     "text": [
      "  Procesados 11,800 / 16,817 eventos...\n"
     ]
    },
    {
     "name": "stdout",
     "output_type": "stream",
     "text": [
      "  Procesados 11,900 / 16,817 eventos...\n"
     ]
    },
    {
     "name": "stdout",
     "output_type": "stream",
     "text": [
      "  Procesados 12,000 / 16,817 eventos...\n"
     ]
    },
    {
     "name": "stdout",
     "output_type": "stream",
     "text": [
      "  Procesados 12,100 / 16,817 eventos...\n"
     ]
    },
    {
     "name": "stdout",
     "output_type": "stream",
     "text": [
      "  Procesados 12,200 / 16,817 eventos...\n"
     ]
    },
    {
     "name": "stdout",
     "output_type": "stream",
     "text": [
      "  Procesados 12,300 / 16,817 eventos...\n"
     ]
    },
    {
     "name": "stdout",
     "output_type": "stream",
     "text": [
      "  Procesados 12,400 / 16,817 eventos...\n"
     ]
    },
    {
     "name": "stdout",
     "output_type": "stream",
     "text": [
      "  Procesados 12,500 / 16,817 eventos...\n"
     ]
    },
    {
     "name": "stdout",
     "output_type": "stream",
     "text": [
      "  Procesados 12,600 / 16,817 eventos...\n"
     ]
    },
    {
     "name": "stdout",
     "output_type": "stream",
     "text": [
      "  Procesados 12,700 / 16,817 eventos...\n"
     ]
    },
    {
     "name": "stdout",
     "output_type": "stream",
     "text": [
      "  Procesados 12,800 / 16,817 eventos...\n"
     ]
    },
    {
     "name": "stdout",
     "output_type": "stream",
     "text": [
      "  Procesados 12,900 / 16,817 eventos...\n"
     ]
    },
    {
     "name": "stdout",
     "output_type": "stream",
     "text": [
      "  Procesados 13,000 / 16,817 eventos...\n"
     ]
    },
    {
     "name": "stdout",
     "output_type": "stream",
     "text": [
      "  Procesados 13,100 / 16,817 eventos...\n"
     ]
    },
    {
     "name": "stdout",
     "output_type": "stream",
     "text": [
      "  Procesados 13,200 / 16,817 eventos...\n"
     ]
    },
    {
     "name": "stdout",
     "output_type": "stream",
     "text": [
      "  Procesados 13,300 / 16,817 eventos...\n"
     ]
    },
    {
     "name": "stdout",
     "output_type": "stream",
     "text": [
      "  Procesados 13,400 / 16,817 eventos...\n"
     ]
    },
    {
     "name": "stdout",
     "output_type": "stream",
     "text": [
      "  Procesados 13,500 / 16,817 eventos...\n"
     ]
    },
    {
     "name": "stdout",
     "output_type": "stream",
     "text": [
      "  Procesados 13,600 / 16,817 eventos...\n"
     ]
    },
    {
     "name": "stdout",
     "output_type": "stream",
     "text": [
      "  Procesados 13,700 / 16,817 eventos...\n"
     ]
    },
    {
     "name": "stdout",
     "output_type": "stream",
     "text": [
      "  Procesados 13,800 / 16,817 eventos...\n"
     ]
    },
    {
     "name": "stdout",
     "output_type": "stream",
     "text": [
      "  Procesados 13,900 / 16,817 eventos...\n"
     ]
    },
    {
     "name": "stdout",
     "output_type": "stream",
     "text": [
      "  Procesados 14,000 / 16,817 eventos...\n"
     ]
    },
    {
     "name": "stdout",
     "output_type": "stream",
     "text": [
      "  Procesados 14,100 / 16,817 eventos...\n"
     ]
    },
    {
     "name": "stdout",
     "output_type": "stream",
     "text": [
      "  Procesados 14,200 / 16,817 eventos...\n"
     ]
    },
    {
     "name": "stdout",
     "output_type": "stream",
     "text": [
      "  Procesados 14,300 / 16,817 eventos...\n"
     ]
    },
    {
     "name": "stdout",
     "output_type": "stream",
     "text": [
      "  Procesados 14,400 / 16,817 eventos...\n"
     ]
    },
    {
     "name": "stdout",
     "output_type": "stream",
     "text": [
      "  Procesados 14,500 / 16,817 eventos...\n"
     ]
    },
    {
     "name": "stdout",
     "output_type": "stream",
     "text": [
      "  Procesados 14,600 / 16,817 eventos...\n"
     ]
    },
    {
     "name": "stdout",
     "output_type": "stream",
     "text": [
      "  Procesados 14,700 / 16,817 eventos...\n"
     ]
    },
    {
     "name": "stdout",
     "output_type": "stream",
     "text": [
      "  Procesados 14,800 / 16,817 eventos...\n"
     ]
    },
    {
     "name": "stdout",
     "output_type": "stream",
     "text": [
      "  Procesados 14,900 / 16,817 eventos...\n"
     ]
    },
    {
     "name": "stdout",
     "output_type": "stream",
     "text": [
      "  Procesados 15,000 / 16,817 eventos...\n"
     ]
    },
    {
     "name": "stdout",
     "output_type": "stream",
     "text": [
      "  Procesados 15,100 / 16,817 eventos...\n"
     ]
    },
    {
     "name": "stdout",
     "output_type": "stream",
     "text": [
      "  Procesados 15,200 / 16,817 eventos...\n"
     ]
    },
    {
     "name": "stdout",
     "output_type": "stream",
     "text": [
      "  Procesados 15,300 / 16,817 eventos...\n"
     ]
    },
    {
     "name": "stdout",
     "output_type": "stream",
     "text": [
      "  Procesados 15,400 / 16,817 eventos...\n"
     ]
    },
    {
     "name": "stdout",
     "output_type": "stream",
     "text": [
      "  Procesados 15,500 / 16,817 eventos...\n"
     ]
    },
    {
     "name": "stdout",
     "output_type": "stream",
     "text": [
      "  Procesados 15,600 / 16,817 eventos...\n"
     ]
    },
    {
     "name": "stdout",
     "output_type": "stream",
     "text": [
      "  Procesados 15,700 / 16,817 eventos...\n"
     ]
    },
    {
     "name": "stdout",
     "output_type": "stream",
     "text": [
      "  Procesados 15,800 / 16,817 eventos...\n"
     ]
    },
    {
     "name": "stdout",
     "output_type": "stream",
     "text": [
      "  Procesados 15,900 / 16,817 eventos...\n"
     ]
    },
    {
     "name": "stdout",
     "output_type": "stream",
     "text": [
      "  Procesados 16,000 / 16,817 eventos...\n"
     ]
    },
    {
     "name": "stdout",
     "output_type": "stream",
     "text": [
      "  Procesados 16,100 / 16,817 eventos...\n"
     ]
    },
    {
     "name": "stdout",
     "output_type": "stream",
     "text": [
      "  Procesados 16,200 / 16,817 eventos...\n"
     ]
    },
    {
     "name": "stdout",
     "output_type": "stream",
     "text": [
      "  Procesados 16,300 / 16,817 eventos...\n"
     ]
    },
    {
     "name": "stdout",
     "output_type": "stream",
     "text": [
      "  Procesados 16,400 / 16,817 eventos...\n"
     ]
    },
    {
     "name": "stdout",
     "output_type": "stream",
     "text": [
      "  Procesados 16,500 / 16,817 eventos...\n"
     ]
    },
    {
     "name": "stdout",
     "output_type": "stream",
     "text": [
      "  Procesados 16,600 / 16,817 eventos...\n"
     ]
    },
    {
     "name": "stdout",
     "output_type": "stream",
     "text": [
      "  Procesados 16,700 / 16,817 eventos...\n"
     ]
    },
    {
     "name": "stdout",
     "output_type": "stream",
     "text": [
      "  Procesados 16,800 / 16,817 eventos...\n"
     ]
    },
    {
     "name": "stdout",
     "output_type": "stream",
     "text": [
      "✓ Exportado: tradingview_exports\\tradingview_E6_MultipleGreenDays.csv\n",
      "  Total eventos: 16,775\n",
      "  Tickers únicos: 50\n",
      "  Rango fechas: 2004-01-07 a 2025-10-23\n",
      "  Ventana sugerida: N/A\n",
      "\n",
      "Procesando E7_FirstRedDay: 245 ocurrencias\n"
     ]
    },
    {
     "name": "stdout",
     "output_type": "stream",
     "text": [
      "  Procesados 100 / 245 eventos...\n"
     ]
    },
    {
     "name": "stdout",
     "output_type": "stream",
     "text": [
      "  Procesados 200 / 245 eventos...\n"
     ]
    },
    {
     "name": "stdout",
     "output_type": "stream",
     "text": [
      "✓ Exportado: tradingview_exports\\tradingview_E7_FirstRedDay.csv\n",
      "  Total eventos: 232\n",
      "  Tickers únicos: 50\n",
      "  Rango fechas: 2004-01-12 a 2025-10-09\n",
      "  Ventana sugerida: N/A\n",
      "\n",
      "Procesando E8_GapDownViolent: 456 ocurrencias\n"
     ]
    },
    {
     "name": "stdout",
     "output_type": "stream",
     "text": [
      "  Procesados 100 / 456 eventos...\n"
     ]
    },
    {
     "name": "stdout",
     "output_type": "stream",
     "text": [
      "  Procesados 200 / 456 eventos...\n",
      "  Procesados 300 / 456 eventos...\n"
     ]
    },
    {
     "name": "stdout",
     "output_type": "stream",
     "text": [
      "  Procesados 400 / 456 eventos...\n"
     ]
    },
    {
     "name": "stdout",
     "output_type": "stream",
     "text": [
      "✓ Exportado: tradingview_exports\\tradingview_E8_GapDownViolent.csv\n",
      "  Total eventos: 454\n",
      "  Tickers únicos: 49\n",
      "  Rango fechas: 2004-03-01 a 2025-10-24\n",
      "  Ventana sugerida: N/A\n",
      "\n",
      "Procesando E9_CrashIntraday: 460 ocurrencias\n"
     ]
    },
    {
     "name": "stdout",
     "output_type": "stream",
     "text": [
      "  Procesados 100 / 460 eventos...\n"
     ]
    },
    {
     "name": "stdout",
     "output_type": "stream",
     "text": [
      "  Procesados 200 / 460 eventos...\n"
     ]
    },
    {
     "name": "stdout",
     "output_type": "stream",
     "text": [
      "  Procesados 300 / 460 eventos...\n"
     ]
    },
    {
     "name": "stdout",
     "output_type": "stream",
     "text": [
      "  Procesados 400 / 460 eventos...\n"
     ]
    },
    {
     "name": "stdout",
     "output_type": "stream",
     "text": [
      "✓ Exportado: tradingview_exports\\tradingview_E9_CrashIntraday.csv\n",
      "  Total eventos: 419\n",
      "  Tickers únicos: 50\n",
      "  Rango fechas: 2004-07-09 a 2025-10-02\n",
      "  Ventana sugerida: N/A\n",
      "\n",
      "================================================================================\n",
      "✓ EXPORTACIÓN COMPLETADA\n",
      "================================================================================\n",
      "Directorio: D:\\04_TRADING_SMALLCAPS\\01_DayBook\\fase_01\\F_Event_detectors_E1_E11\\notebooks\\tradingview_exports\n",
      "Archivos generados: 11\n",
      "\n",
      "Eventos exportados:\n",
      "  • E10_FirstGreenBounce           →  8,493 ocurrencias\n",
      "  • E11_VolumeBounce               →  1,255 ocurrencias\n",
      "  • E1_VolExplosion                →  7,685 ocurrencias\n",
      "  • E2_GapUp                       →  1,069 ocurrencias\n",
      "  • E3_PriceSpikeIntraday          →  1,900 ocurrencias\n",
      "  • E4_Parabolic                   →  1,264 ocurrencias\n",
      "  • E5_BreakoutATH                 →  4,632 ocurrencias\n",
      "  • E6_MultipleGreenDays           → 16,775 ocurrencias\n",
      "  • E7_FirstRedDay                 →    232 ocurrencias\n",
      "  • E8_GapDownViolent              →    454 ocurrencias\n",
      "  • E9_CrashIntraday               →    419 ocurrencias\n",
      "================================================================================\n",
      "\n",
      "📊 CÓMO USAR EN TRADINGVIEW:\n",
      "1. Abre TradingView con el ticker que quieres analizar\n",
      "2. Importa el CSV correspondiente como 'Custom Indicator'\n",
      "3. Los eventos aparecerán como marcadores en el gráfico\n",
      "4. Filtra por ticker si el CSV contiene múltiples símbolos\n",
      "\n",
      "Ejemplo: Para ver E10_FirstGreenBounce en ticker AAPL:\n",
      "  → Carga: tradingview_exports\\tradingview_E10_FirstGreenBounce.csv\n",
      "  → Filtra columna 'ticker' = 'AAPL'\n"
     ]
    }
   ],
   "source": [
    "def export_events_for_tradingview(event_code: str, output_dir: Path = Path('.')):\n",
    "    \"\"\"\n",
    "    Exporta eventos con timestamps exactos para visualización en TradingView.\n",
    "    \n",
    "    Para cada evento crea CSV con:\n",
    "    - ticker\n",
    "    - datetime (timestamp exacto del primer bar del evento)\n",
    "    - close_price (precio en el momento del evento)\n",
    "    - event_code\n",
    "    - window_suggested (ventana sugerida por MI)\n",
    "    \"\"\"\n",
    "    # Filtrar eventos de este tipo\n",
    "    subset = wl_expanded.filter(pl.col('event_code') == event_code)\n",
    "    \n",
    "    print(f\"\\nProcesando {event_code}: {subset.height:,} ocurrencias\")\n",
    "    \n",
    "    events_data = []\n",
    "    \n",
    "    for idx, row in enumerate(subset.iter_rows(named=True)):\n",
    "        ticker = row['ticker']\n",
    "        event_date = row['date']\n",
    "        \n",
    "        # Cargar DIB bars del día del evento para obtener timestamp exacto\n",
    "        bars = load_dib_bars_day(ticker, event_date)\n",
    "        \n",
    "        if bars is None or bars.height == 0:\n",
    "            continue\n",
    "        \n",
    "        # Timestamp del PRIMER bar del evento (inicio de la sesión)\n",
    "        first_ts = bars['t_open'][0]  # Timestamp de apertura del primer bar\n",
    "        close_price = bars['c'][0]  # Precio de cierre del primer bar\n",
    "        \n",
    "        # Ventana sugerida\n",
    "        window = suggested_windows.get(event_code, None)\n",
    "        window_str = f\"[{window[0]:+d},{window[1]:+d}]\" if window else \"N/A\"\n",
    "        \n",
    "        events_data.append({\n",
    "            'ticker': ticker,\n",
    "            'datetime': first_ts,\n",
    "            'close_price': close_price,\n",
    "            'event_code': event_code,\n",
    "            'window_suggested': window_str,\n",
    "            'date': event_date\n",
    "        })\n",
    "        \n",
    "        # Progress cada 100 eventos\n",
    "        if (idx + 1) % 100 == 0:\n",
    "            print(f\"  Procesados {idx + 1:,} / {subset.height:,} eventos...\")\n",
    "    \n",
    "    if not events_data:\n",
    "        print(f\"⚠️  No se encontraron datos para {event_code}\")\n",
    "        return None\n",
    "    \n",
    "    # Crear DataFrame\n",
    "    df = pd.DataFrame(events_data)\n",
    "    \n",
    "    # Ordenar por datetime\n",
    "    df = df.sort_values('datetime')\n",
    "    \n",
    "    # Exportar CSV\n",
    "    output_file = output_dir / f'tradingview_{event_code}.csv'\n",
    "    df.to_csv(output_file, index=False)\n",
    "    \n",
    "    print(f\"✓ Exportado: {output_file}\")\n",
    "    print(f\"  Total eventos: {len(df):,}\")\n",
    "    print(f\"  Tickers únicos: {df['ticker'].nunique()}\")\n",
    "    print(f\"  Rango fechas: {df['date'].min()} a {df['date'].max()}\")\n",
    "    print(f\"  Ventana sugerida: {window_str}\")\n",
    "    \n",
    "    return df\n",
    "\n",
    "\n",
    "# Crear directorio para exports\n",
    "TRADINGVIEW_DIR = OUTPUT_DIR / 'tradingview_exports'\n",
    "TRADINGVIEW_DIR.mkdir(exist_ok=True)\n",
    "\n",
    "print(\"=\"*80)\n",
    "print(\"EXPORTANDO EVENTOS PARA TRADINGVIEW\")\n",
    "print(\"=\"*80)\n",
    "\n",
    "all_exports = {}\n",
    "\n",
    "# Exportar TODOS los eventos disponibles (no solo los analizados)\n",
    "for event in events_available:\n",
    "    df = export_events_for_tradingview(event, TRADINGVIEW_DIR)\n",
    "    if df is not None:\n",
    "        all_exports[event] = df\n",
    "\n",
    "print(\"\\n\" + \"=\"*80)\n",
    "print(\"✓ EXPORTACIÓN COMPLETADA\")\n",
    "print(\"=\"*80)\n",
    "print(f\"Directorio: {TRADINGVIEW_DIR.absolute()}\")\n",
    "print(f\"Archivos generados: {len(all_exports)}\")\n",
    "print(f\"\\nEventos exportados:\")\n",
    "for event, df in all_exports.items():\n",
    "    print(f\"  • {event:<30} → {len(df):>6,} ocurrencias\")\n",
    "print(\"=\"*80)\n",
    "\n",
    "print(\"\\n📊 CÓMO USAR EN TRADINGVIEW:\")\n",
    "print(\"1. Abre TradingView con el ticker que quieres analizar\")\n",
    "print(\"2. Importa el CSV correspondiente como 'Custom Indicator'\")\n",
    "print(\"3. Los eventos aparecerán como marcadores en el gráfico\")\n",
    "print(\"4. Filtra por ticker si el CSV contiene múltiples símbolos\")\n",
    "print(\"\\nEjemplo: Para ver E10_FirstGreenBounce en ticker AAPL:\")\n",
    "print(f\"  → Carga: {TRADINGVIEW_DIR / 'tradingview_E10_FirstGreenBounce.csv'}\")\n",
    "print(\"  → Filtra columna 'ticker' = 'AAPL'\")"
   ]
  },
  {
   "cell_type": "markdown",
   "metadata": {},
   "source": [
    "## 10. EXPORTAR EVENTOS PARA TRADINGVIEW\n",
    "\n",
    "**Objetivo**: Generar CSV con timestamps exactos de TODOS los eventos para visualización en TradingView.\n",
    "\n",
    "**Formato TradingView**:\n",
    "- Necesita timestamp exacto (fecha + hora)\n",
    "- Un archivo por evento\n",
    "- Columnas: ticker, datetime, event_code, price_at_event\n",
    "\n",
    "Esto te permitirá:\n",
    "1. Cargar los eventos como overlays en TradingView\n",
    "2. Verificar visualmente cada evento sobre el gráfico de precio\n",
    "3. Validar que la detección fue correcta"
   ]
  },
  {
   "cell_type": "markdown",
   "metadata": {},
   "source": [
    "## 9. INTERPRETACIÓN: ¿Son creíbles los resultados?\n",
    "\n",
    "**Criterios de validación:**\n",
    "\n",
    "1. **Captura de rango > 70%**: La ventana debe contener la mayor parte del movimiento\n",
    "2. **Volatilidad ratio > 1.5x**: Dentro de ventana debe haber más volatilidad que fuera\n",
    "3. **Consistencia visual**: Los gráficos deben mostrar patrones claros\n",
    "\n",
    "**Posibles problemas detectados:**\n",
    "- Si todas las ventanas son [-3, +3] → Threshold demasiado bajo, MI no discrimina\n",
    "- Si captura < 50% → Ventana no útil para trading\n",
    "- Si vol_ratio < 1.0 → Ventana captura el período tranquilo (ERROR)\n",
    "\n",
    "**Próximos pasos si resultados no son creíbles:**\n",
    "1. Ajustar threshold de MI (probar 30%, 50% en lugar de 10%)\n",
    "2. Usar MI absoluto en lugar de normalizado\n",
    "3. Comparar con Phase 2 (LightGBM) para validación cruzada"
   ]
  },
  {
   "cell_type": "code",
   "execution_count": 10,
   "metadata": {
    "execution": {
     "iopub.execute_input": "2025-10-30T09:25:37.303398Z",
     "iopub.status.busy": "2025-10-30T09:25:37.303099Z",
     "iopub.status.idle": "2025-10-30T09:25:41.229566Z",
     "shell.execute_reply": "2025-10-30T09:25:41.229044Z"
    }
   },
   "outputs": [
    {
     "name": "stdout",
     "output_type": "stream",
     "text": [
      "\n",
      "================================================================================\n",
      "VALIDACIÓN VISUAL: Captura de Movimiento Real\n",
      "================================================================================\n"
     ]
    },
    {
     "data": {
      "image/png": "[encoded data removed]",
      "text/plain": [
       "<Figure size 1500x1000 with 6 Axes>"
      ]
     },
     "metadata": {},
     "output_type": "display_data"
    },
    {
     "name": "stdout",
     "output_type": "stream",
     "text": [
      "\n",
      "======================================================================\n",
      "ESTADÍSTICAS DE CAPTURA: E10_FirstGreenBounce\n",
      "Ventana sugerida: [-3, +3]\n",
      "======================================================================\n",
      "  Captura de rango (%):\n",
      "    - Media:   65.1%\n",
      "    - Mediana: 62.3%\n",
      "    - Min:     39.2%\n",
      "    - Max:     100.0%\n",
      "\n",
      "  Volatilidad dentro/fuera:\n",
      "    - Media:   0.59x\n",
      "    - Mediana: 0.59x\n",
      "======================================================================\n",
      "\n",
      "✓ Gráfico guardado: validation_E10_FirstGreenBounce.png\n",
      "\n"
     ]
    },
    {
     "data": {
      "image/png": "[encoded data removed]",
      "text/plain": [
       "<Figure size 1500x1000 with 6 Axes>"
      ]
     },
     "metadata": {},
     "output_type": "display_data"
    },
    {
     "name": "stdout",
     "output_type": "stream",
     "text": [
      "\n",
      "======================================================================\n",
      "ESTADÍSTICAS DE CAPTURA: E11_VolumeBounce\n",
      "Ventana sugerida: [-3, +3]\n",
      "======================================================================\n",
      "  Captura de rango (%):\n",
      "    - Media:   94.6%\n",
      "    - Mediana: 100.0%\n",
      "    - Min:     67.8%\n",
      "    - Max:     100.0%\n",
      "\n",
      "  Volatilidad dentro/fuera:\n",
      "    - Media:   0.59x\n",
      "    - Mediana: 0.59x\n",
      "======================================================================\n",
      "\n",
      "✓ Gráfico guardado: validation_E11_VolumeBounce.png\n",
      "\n"
     ]
    },
    {
     "data": {
      "image/png": "[encoded data removed]",
      "text/plain": [
       "<Figure size 1500x1000 with 6 Axes>"
      ]
     },
     "metadata": {},
     "output_type": "display_data"
    },
    {
     "name": "stdout",
     "output_type": "stream",
     "text": [
      "\n",
      "======================================================================\n",
      "ESTADÍSTICAS DE CAPTURA: E1_VolExplosion\n",
      "Ventana sugerida: [-3, +3]\n",
      "======================================================================\n",
      "  Captura de rango (%):\n",
      "    - Media:   73.6%\n",
      "    - Mediana: 83.6%\n",
      "    - Min:     19.4%\n",
      "    - Max:     100.0%\n",
      "\n",
      "  Volatilidad dentro/fuera:\n",
      "    - Media:   2.14x\n",
      "    - Mediana: 2.14x\n",
      "======================================================================\n",
      "\n",
      "✓ Gráfico guardado: validation_E1_VolExplosion.png\n",
      "\n",
      "\n",
      "================================================================================\n",
      "✓ Validación visual completada\n",
      "================================================================================\n"
     ]
    }
   ],
   "source": [
    "def get_daily_closes(ticker: str, start_date, end_date):\n",
    "    \"\"\"\n",
    "    Obtiene precios de cierre diarios para un rango de fechas.\n",
    "    Devuelve: list of (date, close_price)\n",
    "    \"\"\"\n",
    "    prices = []\n",
    "    current = start_date\n",
    "    \n",
    "    while current <= end_date:\n",
    "        bars = load_dib_bars_day(ticker, current)\n",
    "        if bars is not None and bars.height > 0:\n",
    "            close_price = bars['c'][-1]  # Último cierre del día\n",
    "            prices.append((current, close_price))\n",
    "        current += timedelta(days=1)\n",
    "    \n",
    "    return prices\n",
    "\n",
    "\n",
    "def visualize_window_capture(event_code: str, window: tuple, n_examples: int = 6):\n",
    "    \"\"\"\n",
    "    Visualiza ejemplos reales de eventos con ventana superpuesta.\n",
    "    Calcula % de movimiento capturado.\n",
    "    \"\"\"\n",
    "    if window is None:\n",
    "        print(f\"❌ {event_code}: Sin ventana sugerida\")\n",
    "        return\n",
    "    \n",
    "    pre, post = window\n",
    "    \n",
    "    # Obtener ocurrencias del evento\n",
    "    subset = wl_expanded.filter(pl.col('event_code') == event_code)\n",
    "    \n",
    "    # Tomar muestra aleatoria\n",
    "    if subset.height > n_examples:\n",
    "        subset = subset.sample(n_examples, seed=123)\n",
    "    else:\n",
    "        n_examples = subset.height\n",
    "    \n",
    "    # Configurar grid de subplots\n",
    "    n_cols = 3\n",
    "    n_rows = (n_examples + n_cols - 1) // n_cols\n",
    "    fig, axes = plt.subplots(n_rows, n_cols, figsize=(15, 5 * n_rows))\n",
    "    axes = axes.flatten() if n_examples > 1 else [axes]\n",
    "    \n",
    "    capture_stats = []\n",
    "    \n",
    "    for idx, row in enumerate(subset.iter_rows(named=True)):\n",
    "        if idx >= n_examples:\n",
    "            break\n",
    "            \n",
    "        ticker = row['ticker']\n",
    "        t0 = row['date']\n",
    "        \n",
    "        # Cargar precios desde t-5 hasta t+5 (ventana amplia para contexto)\n",
    "        start = t0 - timedelta(days=5)\n",
    "        end = t0 + timedelta(days=5)\n",
    "        prices = get_daily_closes(ticker, start, end)\n",
    "        \n",
    "        if len(prices) < 5:  # Muy pocos datos\n",
    "            continue\n",
    "        \n",
    "        # Separar fechas y precios\n",
    "        dates = [p[0] for p in prices]\n",
    "        closes = [p[1] for p in prices]\n",
    "        \n",
    "        # Calcular días relativos al evento\n",
    "        rel_days = [(d - t0).days for d in dates]\n",
    "        \n",
    "        # Identificar puntos dentro de ventana sugerida\n",
    "        in_window = [(pre <= rd <= post) for rd in rel_days]\n",
    "        \n",
    "        # Calcular captura de movimiento\n",
    "        all_prices = closes\n",
    "        window_prices = [p for p, in_w in zip(closes, in_window) if in_w]\n",
    "        \n",
    "        if len(window_prices) < 2 or len(all_prices) < 2:\n",
    "            continue\n",
    "        \n",
    "        # Rango total vs rango capturado\n",
    "        total_range = max(all_prices) - min(all_prices)\n",
    "        window_range = max(window_prices) - min(window_prices)\n",
    "        capture_pct = (window_range / total_range * 100) if total_range > 0 else 0\n",
    "        \n",
    "        # Volatilidad dentro vs fuera\n",
    "        prices_in = [p for p, in_w in zip(closes, in_window) if in_w]\n",
    "        prices_out = [p for p, in_w in zip(closes, in_window) if not in_w]\n",
    "        \n",
    "        vol_in = np.std(np.diff(prices_in)) if len(prices_in) > 1 else 0\n",
    "        vol_out = np.std(np.diff(prices_out)) if len(prices_out) > 1 else 0\n",
    "        vol_ratio = vol_in / vol_out if vol_out > 0 else np.nan\n",
    "        \n",
    "        capture_stats.append({\n",
    "            'ticker': ticker,\n",
    "            'date': t0,\n",
    "            'capture_pct': capture_pct,\n",
    "            'vol_ratio': vol_ratio\n",
    "        })\n",
    "        \n",
    "        # Graficar\n",
    "        ax = axes[idx]\n",
    "        \n",
    "        # Precios fuera de ventana (gris)\n",
    "        out_days = [rd for rd, in_w in zip(rel_days, in_window) if not in_w]\n",
    "        out_prices = [p for p, in_w in zip(closes, in_window) if not in_w]\n",
    "        ax.plot(out_days, out_prices, 'o-', color='gray', alpha=0.4, label='Fuera ventana')\n",
    "        \n",
    "        # Precios dentro de ventana (verde/rojo)\n",
    "        in_days = [rd for rd, in_w in zip(rel_days, in_window) if in_w]\n",
    "        in_prices = [p for p, in_w in zip(closes, in_window) if in_w]\n",
    "        ax.plot(in_days, in_prices, 'o-', color='green', linewidth=2, markersize=8, label='Dentro ventana')\n",
    "        \n",
    "        # Marcar día evento\n",
    "        ax.axvline(x=0, color='red', linestyle='--', linewidth=2, alpha=0.7, label='Evento')\n",
    "        \n",
    "        # Sombrear ventana\n",
    "        ax.axvspan(pre, post, alpha=0.15, color='green')\n",
    "        \n",
    "        # Título con estadísticas\n",
    "        ax.set_title(f\"{ticker} ({t0})\\nCaptura: {capture_pct:.1f}% | Vol ratio: {vol_ratio:.2f}x\", \n",
    "                     fontsize=10)\n",
    "        ax.set_xlabel('Días relativos al evento')\n",
    "        ax.set_ylabel('Precio ($)')\n",
    "        ax.grid(True, alpha=0.3)\n",
    "        ax.legend(fontsize=8)\n",
    "    \n",
    "    # Ocultar axes vacíos\n",
    "    for idx in range(len(subset), len(axes)):\n",
    "        axes[idx].axis('off')\n",
    "    \n",
    "    plt.tight_layout()\n",
    "    plt.savefig(f'validation_{event_code}.png', dpi=150, bbox_inches='tight')\n",
    "    plt.show()\n",
    "    \n",
    "    # Estadísticas agregadas\n",
    "    if capture_stats:\n",
    "        df_stats = pd.DataFrame(capture_stats)\n",
    "        print(f\"\\n{'='*70}\")\n",
    "        print(f\"ESTADÍSTICAS DE CAPTURA: {event_code}\")\n",
    "        print(f\"Ventana sugerida: [{pre:+d}, {post:+d}]\")\n",
    "        print(f\"{'='*70}\")\n",
    "        print(f\"  Captura de rango (%):\")\n",
    "        print(f\"    - Media:   {df_stats['capture_pct'].mean():.1f}%\")\n",
    "        print(f\"    - Mediana: {df_stats['capture_pct'].median():.1f}%\")\n",
    "        print(f\"    - Min:     {df_stats['capture_pct'].min():.1f}%\")\n",
    "        print(f\"    - Max:     {df_stats['capture_pct'].max():.1f}%\")\n",
    "        print(f\"\\n  Volatilidad dentro/fuera:\")\n",
    "        print(f\"    - Media:   {df_stats['vol_ratio'].mean():.2f}x\")\n",
    "        print(f\"    - Mediana: {df_stats['vol_ratio'].median():.2f}x\")\n",
    "        print(f\"{'='*70}\")\n",
    "        print(f\"\\n✓ Gráfico guardado: validation_{event_code}.png\\n\")\n",
    "    \n",
    "    return capture_stats\n",
    "\n",
    "\n",
    "# Ejecutar validación para cada evento\n",
    "print(\"\\n\" + \"=\"*80)\n",
    "print(\"VALIDACIÓN VISUAL: Captura de Movimiento Real\")\n",
    "print(\"=\"*80)\n",
    "\n",
    "all_stats = {}\n",
    "for event, window in suggested_windows.items():\n",
    "    stats = visualize_window_capture(event, window, n_examples=6)\n",
    "    all_stats[event] = stats\n",
    "\n",
    "print(\"\\n\" + \"=\"*80)\n",
    "print(\"✓ Validación visual completada\")\n",
    "print(\"=\"*80)"
   ]
  },
  {
   "cell_type": "markdown",
   "metadata": {},
   "source": [
    "## 8. VALIDACIÓN VISUAL: ¿Las ventanas capturan realmente el movimiento?\n",
    "\n",
    "**CRÍTICO**: Necesitamos VERIFICAR que las ventanas sugeridas realmente capturan el movimiento de precio, no solo confiar en MI.\n",
    "\n",
    "Este análisis muestra:\n",
    "1. Gráficos de precio real con ventana superpuesta\n",
    "2. % del movimiento total capturado por la ventana\n",
    "3. Comparación de volatilidad dentro vs fuera de ventana\n",
    "4. Ejemplos aleatorios para inspección visual"
   ]
  }
 ],
 "metadata": {
  "kernelspec": {
   "display_name": "Python 3",
   "language": "python",
   "name": "python3"
  },
  "language_info": {
   "codemirror_mode": {
    "name": "ipython",
    "version": 3
   },
   "file_extension": ".py",
   "mimetype": "text/x-python",
   "name": "python",
   "nbconvert_exporter": "python",
   "pygments_lexer": "ipython3",
   "version": "3.13.7"
  }
 },
 "nbformat": 4,
 "nbformat_minor": 4
}
